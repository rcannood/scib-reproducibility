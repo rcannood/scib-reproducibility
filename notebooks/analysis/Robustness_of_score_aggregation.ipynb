{
 "cells": [
  {
   "cell_type": "code",
   "execution_count": 1,
   "metadata": {},
   "outputs": [],
   "source": [
    "import pandas as pd\n",
    "import numpy as np\n",
    "from collections import defaultdict"
   ]
  },
  {
   "cell_type": "code",
   "execution_count": 2,
   "metadata": {},
   "outputs": [
    {
     "name": "stdout",
     "output_type": "stream",
     "text": [
      "/Users/malte.luecken/helmholtz_munich/benchmarking_data_integration/Benchmarking_data_integration/notebooks/analysis\n"
     ]
    }
   ],
   "source": [
    "!pwd"
   ]
  },
  {
   "cell_type": "code",
   "execution_count": 3,
   "metadata": {},
   "outputs": [],
   "source": [
    "files = !ls ../../../Paper/202104_Revision/Supplementary\\ Files/Results/*.csv\n",
    "#files = !ls ../../../Paper/Supplementary\\ Files/Results/*.csv"
   ]
  },
  {
   "cell_type": "code",
   "execution_count": 4,
   "metadata": {},
   "outputs": [],
   "source": [
    "data = {file:pd.read_csv(file) for file in files}"
   ]
  },
  {
   "cell_type": "markdown",
   "metadata": {},
   "source": [
    "# Test robustness to other score aggregation approaches (e.g., z-scores)"
   ]
  },
  {
   "cell_type": "code",
   "execution_count": 5,
   "metadata": {},
   "outputs": [],
   "source": [
    "batch_scores = ['PCR batch', 'Batch ASW', 'graph iLISI', 'graph connectivity', 'kBET']\n",
    "bio_scores = ['NMI cluster/label', 'ARI cluster/label', 'Cell type ASW', 'isolated label F1', 'isolated label silhouette', 'graph cLISI', 'CC conservation', 'HVG conservation']"
   ]
  },
  {
   "cell_type": "code",
   "execution_count": 6,
   "metadata": {},
   "outputs": [],
   "source": [
    "def max_min_scale_cols(df):\n",
    "    return((df - df.min())/(df.max() - df.min()))\n",
    "\n",
    "def z_score(df):\n",
    "    return((df - df.mean())/df.std())"
   ]
  },
  {
   "cell_type": "markdown",
   "metadata": {},
   "source": [
    "## For RNA & Sims:"
   ]
  },
  {
   "cell_type": "code",
   "execution_count": 7,
   "metadata": {},
   "outputs": [],
   "source": [
    "def test_ranking(df):\n",
    "    from scipy.stats import spearmanr\n",
    "    \n",
    "    batch_scores = ['PCR batch', 'Batch ASW', 'graph iLISI', 'graph connectivity', 'kBET']\n",
    "    bio_scores = ['NMI cluster/label', 'ARI cluster/label', 'Cell type ASW', 'isolated label F1', 'isolated label silhouette', 'graph cLISI', 'CC conservation', 'HVG conservation', 'trajectory conservation']\n",
    "    \n",
    "    batch_score_sub = [bs for bs in batch_scores if bs in df.columns]\n",
    "    bio_score_sub = [bs for bs in bio_scores if bs in df.columns]\n",
    "    \n",
    "    df['Batch_Correction_zsc'] = z_score(df[batch_score_sub]).mean(1)\n",
    "    df['Bio_conservation_zsc'] = z_score(df[bio_score_sub]).mean(1)\n",
    "    df['Overall_Score_zsc'] = 0.4*df['Batch_Correction_zsc'] + 0.6*df['Bio_conservation_zsc']\n",
    "    \n",
    "    if 'Features' in df.columns:\n",
    "        df['Method_id'] = ['_'.join(df[['Method', 'Output', 'Features', 'Scaling']].values[i]) for i in range(df.shape[0])]\n",
    "    else:\n",
    "        df['Method_id'] = ['_'.join(df[['Method', 'Output']].values[i]) for i in range(df.shape[0])]\n",
    "    \n",
    "    sorted_df = df[['Method_id', 'Overall_Score_zsc', 'Overall Score']].sort_values(by='Overall_Score_zsc', ascending=False)\n",
    "\n",
    "    sorted_df['rank'] = [i for i in range(sorted_df.shape[0])]\n",
    "    \n",
    "    test_statistic = spearmanr(sorted_df['rank'].values, sorted_df.index)[0]\n",
    "    \n",
    "    return (test_statistic, pd.DataFrame({'Method_id':sorted_df['Method_id'], 'rank_zsc':sorted_df['rank'].values, 'rank_init':sorted_df.index}))"
   ]
  },
  {
   "cell_type": "code",
   "execution_count": 8,
   "metadata": {
    "scrolled": true,
    "tags": []
   },
   "outputs": [
    {
     "name": "stdout",
     "output_type": "stream",
     "text": [
      "../../../Paper/202104_Revision/Supplementary Files/Results/immune_cell_hum_mou_summary_scores.csv\n"
     ]
    },
    {
     "data": {
      "text/plain": [
       "(0.9910485933503838,\n",
       "                          Method_id  rank_zsc  rank_init\n",
       " 0         scGen*_gene_HVG_unscaled         0          0\n",
       " 1         BBKNN_graph_HVG_unscaled         1          1\n",
       " 5            MNN_gene_HVG_unscaled         2          5\n",
       " 2          scVI_embed_HVG_unscaled         3          2\n",
       " 3       Scanorama_embed_HVG_scaled         4          3\n",
       " ..                             ...       ...        ...\n",
       " 64   Seurat v3 CCA_gene_HVG_scaled        64         64\n",
       " 65  Seurat v3 CCA_gene_FULL_scaled        65         65\n",
       " 66        trVAE_embed_HVG_unscaled        66         66\n",
       " 67       trVAE_embed_FULL_unscaled        67         67\n",
       " 68         scGen*_gene_FULL_scaled        68         68\n",
       " \n",
       " [69 rows x 3 columns])"
      ]
     },
     "execution_count": 8,
     "metadata": {},
     "output_type": "execute_result"
    },
    {
     "name": "stdout",
     "output_type": "stream",
     "text": [
      "../../../Paper/202104_Revision/Supplementary Files/Results/immune_cell_hum_summary_scores.csv\n"
     ]
    },
    {
     "data": {
      "text/plain": [
       "(0.9804895871392036,\n",
       "                       Method_id  rank_zsc  rank_init\n",
       " 0    Harmony_embed_HVG_unscaled         0          0\n",
       " 1    Scanorama_embed_HVG_scaled         1          1\n",
       " 3   scANVI*_embed_FULL_unscaled         2          3\n",
       " 2    fastMNN_embed_HVG_unscaled         3          2\n",
       " 16     scGen*_gene_HVG_unscaled         4         16\n",
       " ..                          ...       ...        ...\n",
       " 63    SAUCIE_embed_HVG_unscaled        64         63\n",
       " 66    SAUCIE_gene_FULL_unscaled        65         66\n",
       " 65   SAUCIE_embed_FULL_unscaled        66         65\n",
       " 67       scGen*_gene_HVG_scaled        67         67\n",
       " 68      scGen*_gene_FULL_scaled        68         68\n",
       " \n",
       " [69 rows x 3 columns])"
      ]
     },
     "execution_count": 8,
     "metadata": {},
     "output_type": "execute_result"
    },
    {
     "name": "stdout",
     "output_type": "stream",
     "text": [
      "../../../Paper/202104_Revision/Supplementary Files/Results/lung_atlas_summary_scores.csv\n"
     ]
    },
    {
     "data": {
      "text/plain": [
       "(0.9670442089879432,\n",
       "                            Method_id  rank_zsc  rank_init\n",
       " 0           scGen*_gene_HVG_unscaled         0          0\n",
       " 2          scGen*_gene_FULL_unscaled         1          2\n",
       " 3   Seurat v3 RPCA_gene_HVG_unscaled         2          3\n",
       " 1         scANVI*_embed_HVG_unscaled         3          1\n",
       " 17          BBKNN_graph_HVG_unscaled         4         17\n",
       " ..                               ...       ...        ...\n",
       " 65          SAUCIE_gene_HVG_unscaled        64         65\n",
       " 64         SAUCIE_embed_HVG_unscaled        65         64\n",
       " 66         LIGER_embed_FULL_unscaled        66         66\n",
       " 67          LIGER_embed_HVG_unscaled        67         67\n",
       " 68    Seurat v3 CCA_gene_FULL_scaled        68         68\n",
       " \n",
       " [69 rows x 3 columns])"
      ]
     },
     "execution_count": 8,
     "metadata": {},
     "output_type": "execute_result"
    },
    {
     "name": "stdout",
     "output_type": "stream",
     "text": [
      "../../../Paper/202104_Revision/Supplementary Files/Results/mouse_brain_summary_scores.csv\n"
     ]
    },
    {
     "data": {
      "text/plain": [
       "(0.9960180995475113,\n",
       "                           Method_id  rank_zsc  rank_init\n",
       " 1          BBKNN_graph_HVG_unscaled         0          1\n",
       " 0        scANVI*_embed_HVG_unscaled         1          0\n",
       " 7         BBKNN_graph_FULL_unscaled         2          7\n",
       " 2            BBKNN_graph_HVG_scaled         3          2\n",
       " 3          Harmony_embed_HVG_scaled         4          3\n",
       " 5          ComBat_gene_HVG_unscaled         5          5\n",
       " 6        Harmony_embed_HVG_unscaled         6          6\n",
       " 4           BBKNN_graph_FULL_scaled         7          4\n",
       " 8           scVI_embed_HVG_unscaled         8          8\n",
       " 10      Harmony_embed_FULL_unscaled         9         10\n",
       " 12         LIGER_embed_HVG_unscaled        10         12\n",
       " 11        Scanorama_gene_HVG_scaled        11         11\n",
       " 9        Scanorama_embed_HVG_scaled        12          9\n",
       " 15           ComBat_gene_HVG_scaled        13         15\n",
       " 13      scANVI*_embed_FULL_unscaled        14         13\n",
       " 14      Scanorama_gene_HVG_unscaled        15         14\n",
       " 16         fastMNN_embed_HVG_scaled        16         16\n",
       " 19          fastMNN_gene_HVG_scaled        17         19\n",
       " 21         Conos_graph_HVG_unscaled        18         21\n",
       " 17         scVI_embed_FULL_unscaled        19         17\n",
       " 18     Scanorama_embed_HVG_unscaled        20         18\n",
       " 20       fastMNN_embed_HVG_unscaled        21         20\n",
       " 22          SAUCIE_embed_HVG_scaled        22         22\n",
       " 23          DESC_embed_HVG_unscaled        23         23\n",
       " 24            DESC_embed_HVG_scaled        24         24\n",
       " 25        Conos_graph_FULL_unscaled        25         25\n",
       " 27        fastMNN_gene_HVG_unscaled        26         27\n",
       " 28           SAUCIE_gene_HVG_scaled        27         28\n",
       " 26         DESC_embed_FULL_unscaled        28         26\n",
       " 29           DESC_embed_FULL_scaled        29         29\n",
       " 30    Scanorama_embed_FULL_unscaled        30         30\n",
       " 31     Scanorama_gene_FULL_unscaled        31         31\n",
       " 32         SAUCIE_embed_FULL_scaled        32         32\n",
       " 33          SAUCIE_gene_FULL_scaled        33         33\n",
       " 34  Unintegrated_gene_FULL_unscaled        34         34\n",
       " 35        SAUCIE_gene_FULL_unscaled        35         35\n",
       " 36       SAUCIE_embed_FULL_unscaled        36         36\n",
       " 38         SAUCIE_gene_HVG_unscaled        37         38\n",
       " 37        SAUCIE_embed_HVG_unscaled        38         37\n",
       " 39      Scanorama_embed_FULL_scaled        39         39\n",
       " 40       Scanorama_gene_FULL_scaled        40         40\n",
       " 41        Harmony_embed_FULL_scaled        41         41\n",
       " 42           Conos_graph_HVG_scaled        42         42\n",
       " 43          Conos_graph_FULL_scaled        43         43\n",
       " 44        ComBat_gene_FULL_unscaled        44         44\n",
       " 45          ComBat_gene_FULL_scaled        45         45\n",
       " 46        LIGER_embed_FULL_unscaled        46         46\n",
       " 47      fastMNN_embed_FULL_unscaled        47         47\n",
       " 48        fastMNN_embed_FULL_scaled        48         48\n",
       " 49       fastMNN_gene_FULL_unscaled        49         49\n",
       " 50         fastMNN_gene_FULL_scaled        50         50)"
      ]
     },
     "execution_count": 8,
     "metadata": {},
     "output_type": "execute_result"
    },
    {
     "name": "stdout",
     "output_type": "stream",
     "text": [
      "../../../Paper/202104_Revision/Supplementary Files/Results/pancreas_summary_scores.csv\n"
     ]
    },
    {
     "data": {
      "text/plain": [
       "(0.9751918158567776,\n",
       "                            Method_id  rank_zsc  rank_init\n",
       " 8          Scanorama_gene_HVG_scaled         0          8\n",
       " 1      Seurat v3 CCA_gene_HVG_scaled         1          1\n",
       " 0    Seurat v3 CCA_gene_HVG_unscaled         2          0\n",
       " 2   Seurat v3 RPCA_gene_HVG_unscaled         3          2\n",
       " 5     Seurat v3 RPCA_gene_HVG_scaled         4          5\n",
       " ..                               ...       ...        ...\n",
       " 63          SAUCIE_embed_FULL_scaled        64         63\n",
       " 65           SAUCIE_gene_FULL_scaled        65         65\n",
       " 67         SAUCIE_gene_FULL_unscaled        66         67\n",
       " 66        SAUCIE_embed_FULL_unscaled        67         66\n",
       " 68           scGen*_gene_FULL_scaled        68         68\n",
       " \n",
       " [69 rows x 3 columns])"
      ]
     },
     "execution_count": 8,
     "metadata": {},
     "output_type": "execute_result"
    },
    {
     "name": "stdout",
     "output_type": "stream",
     "text": [
      "../../../Paper/202104_Revision/Supplementary Files/Results/simulations_1_1_summary_scores.csv\n"
     ]
    },
    {
     "data": {
      "text/plain": [
       "(0.9453781512605043,\n",
       "                            Method_id  rank_zsc  rank_init\n",
       " 8          scGen*_gene_FULL_unscaled         0          8\n",
       " 0        Harmony_embed_FULL_unscaled         1          0\n",
       " 6   Seurat v3 CCA_gene_FULL_unscaled         2          6\n",
       " 1        fastMNN_embed_FULL_unscaled         3          1\n",
       " 4           scGen*_gene_HVG_unscaled         4          4\n",
       " ..                               ...       ...        ...\n",
       " 57           BBKNN_graph_FULL_scaled        64         57\n",
       " 61          fastMNN_embed_HVG_scaled        65         61\n",
       " 67         SAUCIE_gene_FULL_unscaled        66         67\n",
       " 66        SAUCIE_embed_FULL_unscaled        67         66\n",
       " 68   Unintegrated_gene_FULL_unscaled        68         68\n",
       " \n",
       " [69 rows x 3 columns])"
      ]
     },
     "execution_count": 8,
     "metadata": {},
     "output_type": "execute_result"
    },
    {
     "name": "stdout",
     "output_type": "stream",
     "text": [
      "../../../Paper/202104_Revision/Supplementary Files/Results/simulations_2_summary_scores.csv\n"
     ]
    },
    {
     "data": {
      "text/plain": [
       "(0.9871026671538181,\n",
       "                             Method_id  rank_zsc  rank_init\n",
       " 0            scGen*_gene_HVG_unscaled         0          0\n",
       " 5           scGen*_gene_FULL_unscaled         1          5\n",
       " 2       Seurat v3 CCA_gene_HVG_scaled         2          2\n",
       " 1            Harmony_embed_HVG_scaled         3          1\n",
       " 4     Seurat v3 CCA_gene_HVG_unscaled         4          4\n",
       " ..                                ...       ...        ...\n",
       " 64          SAUCIE_embed_HVG_unscaled        64         64\n",
       " 65   Seurat v3 RPCA_gene_HVG_unscaled        65         65\n",
       " 66  Seurat v3 RPCA_gene_FULL_unscaled        66         66\n",
       " 67     Seurat v3 RPCA_gene_HVG_scaled        67         67\n",
       " 68    Seurat v3 RPCA_gene_FULL_scaled        68         68\n",
       " \n",
       " [69 rows x 3 columns])"
      ]
     },
     "execution_count": 8,
     "metadata": {},
     "output_type": "execute_result"
    }
   ],
   "source": [
    "for file in data.keys():\n",
    "    print(f'{file}')\n",
    "    test_ranking(data[file])"
   ]
  },
  {
   "cell_type": "markdown",
   "metadata": {},
   "source": [
    "On RNA tasks and simulations alternative ranking via z-scores of metrics prior to aggregation has at least spearman correlation of 0.95 to the ranking via min-max scaling and aggregation that we perform. The 0.95 is on the least discriminative task, all other tasks have 0.97 and above."
   ]
  },
  {
   "cell_type": "markdown",
   "metadata": {},
   "source": [
    "## For ATAC:"
   ]
  },
  {
   "cell_type": "code",
   "execution_count": 9,
   "metadata": {},
   "outputs": [],
   "source": [
    "#files = !ls ../../../Paper/Supplementary\\ Files/Results/ATAC/*.csv\n",
    "files = ['../../../Paper/202104_Revision/Supplementary Files/Results/ATAC/mouse_brain_atac_large_summary_scores.csv', '../../../Paper/202104_Revision/Supplementary Files/Results/ATAC/mouse_brain_atac_small_summary_scores.csv']\n",
    "\n",
    "data_atac = {file:pd.read_csv(file) for file in files}"
   ]
  },
  {
   "cell_type": "code",
   "execution_count": 10,
   "metadata": {
    "scrolled": true,
    "tags": []
   },
   "outputs": [
    {
     "name": "stdout",
     "output_type": "stream",
     "text": [
      "../../../Paper/202104_Revision/Supplementary Files/Results/ATAC/mouse_brain_atac_large_summary_scores.csv\n"
     ]
    },
    {
     "data": {
      "text/plain": [
       "(0.9874342489772066,\n",
       "               Method_id  rank_zsc  rank_init\n",
       " 10          BBKNN_graph         0         10\n",
       " 0         Harmony_embed         1          0\n",
       " 3           ComBat_gene         2          3\n",
       " 1           ComBat_gene         3          1\n",
       " 2         Harmony_embed         4          2\n",
       " 9           BBKNN_graph         5          9\n",
       " 4           LIGER_embed         6          4\n",
       " 5           LIGER_embed         7          5\n",
       " 6     Unintegrated_gene         8          6\n",
       " 8     Unintegrated_gene         9          8\n",
       " 7         scANVI*_embed        10          7\n",
       " 11          scGen*_gene        11         11\n",
       " 12           scVI_embed        12         12\n",
       " 26          BBKNN_graph        13         26\n",
       " 15  Seurat v3 RPCA_gene        14         15\n",
       " 13           DESC_embed        15         13\n",
       " 14           DESC_embed        16         14\n",
       " 17          ComBat_gene        17         17\n",
       " 18    Unintegrated_gene        18         18\n",
       " 16        Harmony_embed        19         16\n",
       " 19   Seurat v3 CCA_gene        20         19\n",
       " 20      Scanorama_embed        21         20\n",
       " 21       Scanorama_gene        22         21\n",
       " 23         fastMNN_gene        23         23\n",
       " 24        fastMNN_embed        24         24\n",
       " 22          LIGER_embed        25         22\n",
       " 25           DESC_embed        26         25\n",
       " 27          Conos_graph        27         27\n",
       " 34          Conos_graph        28         34\n",
       " 28         SAUCIE_embed        29         28\n",
       " 35          Conos_graph        30         35\n",
       " 29          SAUCIE_gene        31         29\n",
       " 30         SAUCIE_embed        32         30\n",
       " 31          SAUCIE_gene        33         31\n",
       " 32         SAUCIE_embed        34         32\n",
       " 33          SAUCIE_gene        35         33\n",
       " 36             MNN_gene        36         36\n",
       " 37             MNN_gene        37         37\n",
       " 38      Scanorama_embed        38         38\n",
       " 39      Scanorama_embed        39         39\n",
       " 40       Scanorama_gene        40         40\n",
       " 41       Scanorama_gene        41         41\n",
       " 42   Seurat v3 CCA_gene        42         42\n",
       " 43   Seurat v3 CCA_gene        43         43\n",
       " 44  Seurat v3 RPCA_gene        44         44\n",
       " 45  Seurat v3 RPCA_gene        45         45\n",
       " 46          trVAE_embed        46         46\n",
       " 47          trVAE_embed        47         47\n",
       " 48           scVI_embed        48         48\n",
       " 49           scVI_embed        49         49\n",
       " 50        scANVI*_embed        50         50\n",
       " 51        scANVI*_embed        51         51\n",
       " 52          scGen*_gene        52         52\n",
       " 53          scGen*_gene        53         53\n",
       " 54        fastMNN_embed        54         54\n",
       " 55        fastMNN_embed        55         55\n",
       " 56         fastMNN_gene        56         56\n",
       " 57         fastMNN_gene        57         57\n",
       " 58             MNN_gene        58         58)"
      ]
     },
     "execution_count": 10,
     "metadata": {},
     "output_type": "execute_result"
    },
    {
     "name": "stdout",
     "output_type": "stream",
     "text": [
      "../../../Paper/202104_Revision/Supplementary Files/Results/ATAC/mouse_brain_atac_small_summary_scores.csv\n"
     ]
    },
    {
     "data": {
      "text/plain": [
       "(0.9717699360933595,\n",
       "               Method_id  rank_zsc  rank_init\n",
       " 1    Seurat v3 CCA_gene         0          1\n",
       " 7   Seurat v3 RPCA_gene         1          7\n",
       " 2         scANVI*_embed         2          2\n",
       " 0           BBKNN_graph         3          0\n",
       " 4         Harmony_embed         4          4\n",
       " 12  Seurat v3 RPCA_gene         5         12\n",
       " 6         Harmony_embed         6          6\n",
       " 18    Unintegrated_gene         7         18\n",
       " 5           LIGER_embed         8          5\n",
       " 10           DESC_embed         9         10\n",
       " 13          scGen*_gene        10         13\n",
       " 8           LIGER_embed        11          8\n",
       " 20   Seurat v3 CCA_gene        12         20\n",
       " 9            scVI_embed        13          9\n",
       " 21          scGen*_gene        14         21\n",
       " 19          ComBat_gene        15         19\n",
       " 11        scANVI*_embed        16         11\n",
       " 16        fastMNN_embed        17         16\n",
       " 14        scANVI*_embed        18         14\n",
       " 3           BBKNN_graph        19          3\n",
       " 15           scVI_embed        20         15\n",
       " 25      Scanorama_embed        21         25\n",
       " 17           scVI_embed        22         17\n",
       " 27             MNN_gene        23         27\n",
       " 28    Unintegrated_gene        24         28\n",
       " 26          ComBat_gene        25         26\n",
       " 22         fastMNN_gene        26         22\n",
       " 23       Scanorama_gene        27         23\n",
       " 24        Harmony_embed        28         24\n",
       " 29          scGen*_gene        29         29\n",
       " 30      Scanorama_embed        30         30\n",
       " 32  Seurat v3 RPCA_gene        31         32\n",
       " 33      Scanorama_embed        32         33\n",
       " 36          trVAE_embed        33         36\n",
       " 35          trVAE_embed        34         35\n",
       " 31        fastMNN_embed        35         31\n",
       " 38             MNN_gene        36         38\n",
       " 34          ComBat_gene        37         34\n",
       " 39   Seurat v3 CCA_gene        38         39\n",
       " 43    Unintegrated_gene        39         43\n",
       " 37         fastMNN_gene        40         37\n",
       " 40       Scanorama_gene        41         40\n",
       " 41          trVAE_embed        42         41\n",
       " 45             MNN_gene        43         45\n",
       " 48          Conos_graph        44         48\n",
       " 42          LIGER_embed        45         42\n",
       " 44       Scanorama_gene        46         44\n",
       " 50        fastMNN_embed        47         50\n",
       " 51         fastMNN_gene        48         51\n",
       " 46          SAUCIE_gene        49         46\n",
       " 47         SAUCIE_embed        50         47\n",
       " 49          BBKNN_graph        51         49\n",
       " 54           DESC_embed        52         54\n",
       " 58          Conos_graph        53         58\n",
       " 52          SAUCIE_gene        54         52\n",
       " 53         SAUCIE_embed        55         53\n",
       " 55           DESC_embed        56         55\n",
       " 56          SAUCIE_gene        57         56\n",
       " 57         SAUCIE_embed        58         57\n",
       " 59          Conos_graph        59         59)"
      ]
     },
     "execution_count": 10,
     "metadata": {},
     "output_type": "execute_result"
    }
   ],
   "source": [
    "for file in data_atac.keys():\n",
    "    print(f'{file}')\n",
    "    test_ranking(data_atac[file])"
   ]
  },
  {
   "cell_type": "markdown",
   "metadata": {},
   "source": [
    "With z-scoring BBKNN (on which fewer metrics are computed, and which has more outlier scores in LISI metrics) would be ranked higher. This is likely less robust than our ranking."
   ]
  }
 ],
 "metadata": {
  "kernelspec": {
   "display_name": "Python 3",
   "language": "python",
   "name": "python3"
  },
  "language_info": {
   "codemirror_mode": {
    "name": "ipython",
    "version": 3
   },
   "file_extension": ".py",
   "mimetype": "text/x-python",
   "name": "python",
   "nbconvert_exporter": "python",
   "pygments_lexer": "ipython3",
   "version": "3.7.10"
  }
 },
 "nbformat": 4,
 "nbformat_minor": 4
}
