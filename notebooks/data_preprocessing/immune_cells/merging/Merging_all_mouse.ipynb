{
 "cells": [
  {
   "cell_type": "markdown",
   "metadata": {},
   "source": [
    "# Merging all mouse datasets: PB + Bone Marrow"
   ]
  },
  {
   "cell_type": "code",
   "execution_count": 1,
   "metadata": {},
   "outputs": [],
   "source": [
    "import scanpy as sc\n",
    "import numpy as np\n",
    "import scipy as sp\n",
    "import pandas as pd\n",
    "import matplotlib.pyplot as plt\n",
    "from matplotlib import rcParams\n",
    "from matplotlib import colors\n",
    "import seaborn as sb\n",
    "import glob\n",
    "\n",
    "import rpy2.rinterface_lib.callbacks\n",
    "import logging\n",
    "\n",
    "from rpy2.robjects import pandas2ri\n",
    "import anndata2ri"
   ]
  },
  {
   "cell_type": "code",
   "execution_count": 2,
   "metadata": {},
   "outputs": [
    {
     "name": "stdout",
     "output_type": "stream",
     "text": [
      "scanpy==1.4.4.post1 anndata==0.6.22.post1 umap==0.3.10 numpy==1.17.3 scipy==1.3.0 pandas==0.24.2 scikit-learn==0.21.2 statsmodels==0.10.1 python-igraph==0.7.1 louvain==0.6.1\n"
     ]
    }
   ],
   "source": [
    "# Ignore R warning messages\n",
    "#Note: this can be commented out to get more verbose R output\n",
    "rpy2.rinterface_lib.callbacks.logger.setLevel(logging.ERROR)\n",
    "\n",
    "# Automatically convert rpy2 outputs to pandas dataframes\n",
    "pandas2ri.activate()\n",
    "anndata2ri.activate()\n",
    "%load_ext rpy2.ipython\n",
    "\n",
    "plt.rcParams['figure.figsize']=(8,8) #rescale figures\n",
    "sc.settings.verbosity = 3\n",
    "#sc.set_figure_params(dpi=200, dpi_save=300)\n",
    "sc.logging.print_versions()\n",
    "\n",
    "results_file = './write/Immune_ALL_mouse.h5ad'"
   ]
  },
  {
   "cell_type": "code",
   "execution_count": 10,
   "metadata": {},
   "outputs": [
    {
     "name": "stdout",
     "output_type": "stream",
     "text": [
      "./write/Dahlin_mou_BM_pp.h5ad\n",
      "./write/MCA_mou_PB_pp.h5ad\n",
      "./write/MCA_mou_BM_pp.h5ad\n"
     ]
    }
   ],
   "source": [
    "file_paths = './write/'\n",
    "adatas_pp = []\n",
    "for i in glob.glob(file_paths+'*.h5ad'):\n",
    "    print(i)\n",
    "    adatas_pp.append(sc.read(i, cache=False)) "
   ]
  },
  {
   "cell_type": "code",
   "execution_count": 11,
   "metadata": {},
   "outputs": [
    {
     "name": "stdout",
     "output_type": "stream",
     "text": [
      "(30405, 18854)\n",
      "(7576, 11346)\n",
      "(26465, 15455)\n"
     ]
    }
   ],
   "source": [
    "for i in range(len(adatas_pp)):\n",
    "    print(adatas_pp[i].shape)"
   ]
  },
  {
   "cell_type": "code",
   "execution_count": 12,
   "metadata": {},
   "outputs": [],
   "source": [
    "# Concatenate to unique adata object\n",
    "adata_pp = adatas_pp[0].concatenate(adatas_pp[1:], batch_key='sample_ID',\n",
    "                                                        index_unique=None)"
   ]
  },
  {
   "cell_type": "code",
   "execution_count": 13,
   "metadata": {},
   "outputs": [
    {
     "data": {
      "text/plain": [
       "(64446, 10108)"
      ]
     },
     "execution_count": 13,
     "metadata": {},
     "output_type": "execute_result"
    }
   ],
   "source": [
    "adata_pp.shape"
   ]
  },
  {
   "cell_type": "code",
   "execution_count": 14,
   "metadata": {},
   "outputs": [],
   "source": [
    "adata_pp.var.index.rename('mouse_gene_symbol', inplace=True)"
   ]
  },
  {
   "cell_type": "code",
   "execution_count": 15,
   "metadata": {
    "scrolled": true
   },
   "outputs": [
    {
     "data": {
      "text/html": [
       "<div>\n",
       "<style scoped>\n",
       "    .dataframe tbody tr th:only-of-type {\n",
       "        vertical-align: middle;\n",
       "    }\n",
       "\n",
       "    .dataframe tbody tr th {\n",
       "        vertical-align: top;\n",
       "    }\n",
       "\n",
       "    .dataframe thead th {\n",
       "        text-align: right;\n",
       "    }\n",
       "</style>\n",
       "<table border=\"1\" class=\"dataframe\">\n",
       "  <thead>\n",
       "    <tr style=\"text-align: right;\">\n",
       "      <th></th>\n",
       "      <th>gene_ensembl-0</th>\n",
       "      <th>n_cells-0</th>\n",
       "      <th>n_cells-1</th>\n",
       "      <th>n_cells-2</th>\n",
       "    </tr>\n",
       "    <tr>\n",
       "      <th>mouse_gene_symbol</th>\n",
       "      <th></th>\n",
       "      <th></th>\n",
       "      <th></th>\n",
       "      <th></th>\n",
       "    </tr>\n",
       "  </thead>\n",
       "  <tbody>\n",
       "    <tr>\n",
       "      <th>Mrpl15</th>\n",
       "      <td>ENSMUSG00000033845</td>\n",
       "      <td>20003</td>\n",
       "      <td>618</td>\n",
       "      <td>5321</td>\n",
       "    </tr>\n",
       "    <tr>\n",
       "      <th>Lypla1</th>\n",
       "      <td>ENSMUSG00000025903</td>\n",
       "      <td>10938</td>\n",
       "      <td>411</td>\n",
       "      <td>1846</td>\n",
       "    </tr>\n",
       "    <tr>\n",
       "      <th>Tcea1</th>\n",
       "      <td>ENSMUSG00000033813</td>\n",
       "      <td>18486</td>\n",
       "      <td>208</td>\n",
       "      <td>826</td>\n",
       "    </tr>\n",
       "    <tr>\n",
       "      <th>Atp6v1h</th>\n",
       "      <td>ENSMUSG00000033793</td>\n",
       "      <td>8053</td>\n",
       "      <td>140</td>\n",
       "      <td>911</td>\n",
       "    </tr>\n",
       "    <tr>\n",
       "      <th>Rb1cc1</th>\n",
       "      <td>ENSMUSG00000025907</td>\n",
       "      <td>11350</td>\n",
       "      <td>82</td>\n",
       "      <td>390</td>\n",
       "    </tr>\n",
       "  </tbody>\n",
       "</table>\n",
       "</div>"
      ],
      "text/plain": [
       "                       gene_ensembl-0  n_cells-0  n_cells-1  n_cells-2\n",
       "mouse_gene_symbol                                                     \n",
       "Mrpl15             ENSMUSG00000033845      20003        618       5321\n",
       "Lypla1             ENSMUSG00000025903      10938        411       1846\n",
       "Tcea1              ENSMUSG00000033813      18486        208        826\n",
       "Atp6v1h            ENSMUSG00000033793       8053        140        911\n",
       "Rb1cc1             ENSMUSG00000025907      11350         82        390"
      ]
     },
     "execution_count": 15,
     "metadata": {},
     "output_type": "execute_result"
    }
   ],
   "source": [
    "adata_pp.var.head()"
   ]
  },
  {
   "cell_type": "code",
   "execution_count": 16,
   "metadata": {},
   "outputs": [
    {
     "data": {
      "text/html": [
       "<div>\n",
       "<style scoped>\n",
       "    .dataframe tbody tr th:only-of-type {\n",
       "        vertical-align: middle;\n",
       "    }\n",
       "\n",
       "    .dataframe tbody tr th {\n",
       "        vertical-align: top;\n",
       "    }\n",
       "\n",
       "    .dataframe thead th {\n",
       "        text-align: right;\n",
       "    }\n",
       "</style>\n",
       "<table border=\"1\" class=\"dataframe\">\n",
       "  <thead>\n",
       "    <tr style=\"text-align: right;\">\n",
       "      <th></th>\n",
       "      <th>batch</th>\n",
       "      <th>chemistry</th>\n",
       "      <th>data_type</th>\n",
       "      <th>dpt_pseudotime_y</th>\n",
       "      <th>final_annotation</th>\n",
       "      <th>mt_frac</th>\n",
       "      <th>n_counts</th>\n",
       "      <th>n_genes</th>\n",
       "      <th>sample_ID</th>\n",
       "      <th>size_factors</th>\n",
       "      <th>species</th>\n",
       "      <th>study</th>\n",
       "      <th>tissue</th>\n",
       "    </tr>\n",
       "    <tr>\n",
       "      <th>index</th>\n",
       "      <th></th>\n",
       "      <th></th>\n",
       "      <th></th>\n",
       "      <th></th>\n",
       "      <th></th>\n",
       "      <th></th>\n",
       "      <th></th>\n",
       "      <th></th>\n",
       "      <th></th>\n",
       "      <th></th>\n",
       "      <th></th>\n",
       "      <th></th>\n",
       "      <th></th>\n",
       "    </tr>\n",
       "  </thead>\n",
       "  <tbody>\n",
       "    <tr>\n",
       "      <th>AAACCTGAGGCAGGTT-1-Dahlin_1</th>\n",
       "      <td>Dahlin_1</td>\n",
       "      <td>v2_10X</td>\n",
       "      <td>UMI</td>\n",
       "      <td>0.865444</td>\n",
       "      <td>Erythrocytes</td>\n",
       "      <td>0.027973</td>\n",
       "      <td>30744.0</td>\n",
       "      <td>4452.0</td>\n",
       "      <td>0</td>\n",
       "      <td>1.976381</td>\n",
       "      <td>Mouse</td>\n",
       "      <td>Dahlin_BM</td>\n",
       "      <td>Bone_Marrow</td>\n",
       "    </tr>\n",
       "    <tr>\n",
       "      <th>AAACCTGCAAGCTGAG-1-Dahlin_1</th>\n",
       "      <td>Dahlin_1</td>\n",
       "      <td>v2_10X</td>\n",
       "      <td>UMI</td>\n",
       "      <td>NaN</td>\n",
       "      <td>Neutrophils</td>\n",
       "      <td>0.022213</td>\n",
       "      <td>16657.0</td>\n",
       "      <td>3369.0</td>\n",
       "      <td>0</td>\n",
       "      <td>1.049823</td>\n",
       "      <td>Mouse</td>\n",
       "      <td>Dahlin_BM</td>\n",
       "      <td>Bone_Marrow</td>\n",
       "    </tr>\n",
       "    <tr>\n",
       "      <th>AAACCTGCAGATGGGT-1-Dahlin_1</th>\n",
       "      <td>Dahlin_1</td>\n",
       "      <td>v2_10X</td>\n",
       "      <td>UMI</td>\n",
       "      <td>NaN</td>\n",
       "      <td>Lymphocyte progenitors</td>\n",
       "      <td>0.015106</td>\n",
       "      <td>16484.0</td>\n",
       "      <td>3372.0</td>\n",
       "      <td>0</td>\n",
       "      <td>1.081016</td>\n",
       "      <td>Mouse</td>\n",
       "      <td>Dahlin_BM</td>\n",
       "      <td>Bone_Marrow</td>\n",
       "    </tr>\n",
       "    <tr>\n",
       "      <th>AAACCTGCATACAGCT-1-Dahlin_1</th>\n",
       "      <td>Dahlin_1</td>\n",
       "      <td>v2_10X</td>\n",
       "      <td>UMI</td>\n",
       "      <td>0.750666</td>\n",
       "      <td>Erythrocytes</td>\n",
       "      <td>0.024411</td>\n",
       "      <td>34820.0</td>\n",
       "      <td>4648.0</td>\n",
       "      <td>0</td>\n",
       "      <td>2.257881</td>\n",
       "      <td>Mouse</td>\n",
       "      <td>Dahlin_BM</td>\n",
       "      <td>Bone_Marrow</td>\n",
       "    </tr>\n",
       "    <tr>\n",
       "      <th>AAACCTGCATCACGTA-1-Dahlin_1</th>\n",
       "      <td>Dahlin_1</td>\n",
       "      <td>v2_10X</td>\n",
       "      <td>UMI</td>\n",
       "      <td>0.887669</td>\n",
       "      <td>Erythrocytes</td>\n",
       "      <td>0.020295</td>\n",
       "      <td>26213.0</td>\n",
       "      <td>4258.0</td>\n",
       "      <td>0</td>\n",
       "      <td>1.751340</td>\n",
       "      <td>Mouse</td>\n",
       "      <td>Dahlin_BM</td>\n",
       "      <td>Bone_Marrow</td>\n",
       "    </tr>\n",
       "  </tbody>\n",
       "</table>\n",
       "</div>"
      ],
      "text/plain": [
       "                                batch chemistry data_type  dpt_pseudotime_y  \\\n",
       "index                                                                         \n",
       "AAACCTGAGGCAGGTT-1-Dahlin_1  Dahlin_1    v2_10X       UMI          0.865444   \n",
       "AAACCTGCAAGCTGAG-1-Dahlin_1  Dahlin_1    v2_10X       UMI               NaN   \n",
       "AAACCTGCAGATGGGT-1-Dahlin_1  Dahlin_1    v2_10X       UMI               NaN   \n",
       "AAACCTGCATACAGCT-1-Dahlin_1  Dahlin_1    v2_10X       UMI          0.750666   \n",
       "AAACCTGCATCACGTA-1-Dahlin_1  Dahlin_1    v2_10X       UMI          0.887669   \n",
       "\n",
       "                                   final_annotation   mt_frac  n_counts  \\\n",
       "index                                                                     \n",
       "AAACCTGAGGCAGGTT-1-Dahlin_1            Erythrocytes  0.027973   30744.0   \n",
       "AAACCTGCAAGCTGAG-1-Dahlin_1             Neutrophils  0.022213   16657.0   \n",
       "AAACCTGCAGATGGGT-1-Dahlin_1  Lymphocyte progenitors  0.015106   16484.0   \n",
       "AAACCTGCATACAGCT-1-Dahlin_1            Erythrocytes  0.024411   34820.0   \n",
       "AAACCTGCATCACGTA-1-Dahlin_1            Erythrocytes  0.020295   26213.0   \n",
       "\n",
       "                             n_genes sample_ID  size_factors species  \\\n",
       "index                                                                  \n",
       "AAACCTGAGGCAGGTT-1-Dahlin_1   4452.0         0      1.976381   Mouse   \n",
       "AAACCTGCAAGCTGAG-1-Dahlin_1   3369.0         0      1.049823   Mouse   \n",
       "AAACCTGCAGATGGGT-1-Dahlin_1   3372.0         0      1.081016   Mouse   \n",
       "AAACCTGCATACAGCT-1-Dahlin_1   4648.0         0      2.257881   Mouse   \n",
       "AAACCTGCATCACGTA-1-Dahlin_1   4258.0         0      1.751340   Mouse   \n",
       "\n",
       "                                 study       tissue  \n",
       "index                                                \n",
       "AAACCTGAGGCAGGTT-1-Dahlin_1  Dahlin_BM  Bone_Marrow  \n",
       "AAACCTGCAAGCTGAG-1-Dahlin_1  Dahlin_BM  Bone_Marrow  \n",
       "AAACCTGCAGATGGGT-1-Dahlin_1  Dahlin_BM  Bone_Marrow  \n",
       "AAACCTGCATACAGCT-1-Dahlin_1  Dahlin_BM  Bone_Marrow  \n",
       "AAACCTGCATCACGTA-1-Dahlin_1  Dahlin_BM  Bone_Marrow  "
      ]
     },
     "execution_count": 16,
     "metadata": {},
     "output_type": "execute_result"
    }
   ],
   "source": [
    "adata_pp.obs.head()"
   ]
  },
  {
   "cell_type": "markdown",
   "metadata": {},
   "source": [
    "## Human orthologous genes"
   ]
  },
  {
   "cell_type": "code",
   "execution_count": 17,
   "metadata": {},
   "outputs": [
    {
     "data": {
      "text/html": [
       "<div>\n",
       "<style scoped>\n",
       "    .dataframe tbody tr th:only-of-type {\n",
       "        vertical-align: middle;\n",
       "    }\n",
       "\n",
       "    .dataframe tbody tr th {\n",
       "        vertical-align: top;\n",
       "    }\n",
       "\n",
       "    .dataframe thead th {\n",
       "        text-align: right;\n",
       "    }\n",
       "</style>\n",
       "<table border=\"1\" class=\"dataframe\">\n",
       "  <thead>\n",
       "    <tr style=\"text-align: right;\">\n",
       "      <th></th>\n",
       "      <th>mouse_genes</th>\n",
       "      <th>HGNC.symbol</th>\n",
       "    </tr>\n",
       "  </thead>\n",
       "  <tbody>\n",
       "    <tr>\n",
       "      <th>0</th>\n",
       "      <td>0610010F05Rik</td>\n",
       "      <td>KIAA1841</td>\n",
       "    </tr>\n",
       "    <tr>\n",
       "      <th>1</th>\n",
       "      <td>0610010K14Rik</td>\n",
       "      <td>C17orf49</td>\n",
       "    </tr>\n",
       "    <tr>\n",
       "      <th>2</th>\n",
       "      <td>0610010K14Rik</td>\n",
       "      <td>RNASEK-C17orf49</td>\n",
       "    </tr>\n",
       "    <tr>\n",
       "      <th>3</th>\n",
       "      <td>0610012G03Rik</td>\n",
       "      <td>NCBP2AS2</td>\n",
       "    </tr>\n",
       "    <tr>\n",
       "      <th>4</th>\n",
       "      <td>0610030E20Rik</td>\n",
       "      <td>C2orf68</td>\n",
       "    </tr>\n",
       "  </tbody>\n",
       "</table>\n",
       "</div>"
      ],
      "text/plain": [
       "     mouse_genes      HGNC.symbol\n",
       "0  0610010F05Rik         KIAA1841\n",
       "1  0610010K14Rik         C17orf49\n",
       "2  0610010K14Rik  RNASEK-C17orf49\n",
       "3  0610012G03Rik         NCBP2AS2\n",
       "4  0610030E20Rik          C2orf68"
      ]
     },
     "execution_count": 17,
     "metadata": {},
     "output_type": "execute_result"
    }
   ],
   "source": [
    "mapMouse_Human_orth = pd.read_csv('../mapping_mouse_human.txt', sep='\\t')\n",
    "mapMouse_Human_orth.head()"
   ]
  },
  {
   "cell_type": "code",
   "execution_count": 18,
   "metadata": {},
   "outputs": [],
   "source": [
    "mapMouse_Human_orth.rename(columns={'mouse_genes':'mouse_gene_symbol', 'HGNC.symbol':'human_gene_symbol'}, inplace=True)"
   ]
  },
  {
   "cell_type": "code",
   "execution_count": 19,
   "metadata": {
    "scrolled": true
   },
   "outputs": [
    {
     "data": {
      "text/html": [
       "<div>\n",
       "<style scoped>\n",
       "    .dataframe tbody tr th:only-of-type {\n",
       "        vertical-align: middle;\n",
       "    }\n",
       "\n",
       "    .dataframe tbody tr th {\n",
       "        vertical-align: top;\n",
       "    }\n",
       "\n",
       "    .dataframe thead th {\n",
       "        text-align: right;\n",
       "    }\n",
       "</style>\n",
       "<table border=\"1\" class=\"dataframe\">\n",
       "  <thead>\n",
       "    <tr style=\"text-align: right;\">\n",
       "      <th></th>\n",
       "      <th>mouse_gene_symbol</th>\n",
       "      <th>gene_ensembl-0</th>\n",
       "      <th>n_cells-0</th>\n",
       "      <th>n_cells-1</th>\n",
       "      <th>n_cells-2</th>\n",
       "      <th>human_gene_symbol</th>\n",
       "    </tr>\n",
       "  </thead>\n",
       "  <tbody>\n",
       "    <tr>\n",
       "      <th>0</th>\n",
       "      <td>Mrpl15</td>\n",
       "      <td>ENSMUSG00000033845</td>\n",
       "      <td>20003</td>\n",
       "      <td>618</td>\n",
       "      <td>5321</td>\n",
       "      <td>MRPL15</td>\n",
       "    </tr>\n",
       "    <tr>\n",
       "      <th>1</th>\n",
       "      <td>Lypla1</td>\n",
       "      <td>ENSMUSG00000025903</td>\n",
       "      <td>10938</td>\n",
       "      <td>411</td>\n",
       "      <td>1846</td>\n",
       "      <td>LYPLA1</td>\n",
       "    </tr>\n",
       "    <tr>\n",
       "      <th>2</th>\n",
       "      <td>Tcea1</td>\n",
       "      <td>ENSMUSG00000033813</td>\n",
       "      <td>18486</td>\n",
       "      <td>208</td>\n",
       "      <td>826</td>\n",
       "      <td>TCEA1</td>\n",
       "    </tr>\n",
       "    <tr>\n",
       "      <th>3</th>\n",
       "      <td>Atp6v1h</td>\n",
       "      <td>ENSMUSG00000033793</td>\n",
       "      <td>8053</td>\n",
       "      <td>140</td>\n",
       "      <td>911</td>\n",
       "      <td>ATP6V1H</td>\n",
       "    </tr>\n",
       "    <tr>\n",
       "      <th>4</th>\n",
       "      <td>Rb1cc1</td>\n",
       "      <td>ENSMUSG00000025907</td>\n",
       "      <td>11350</td>\n",
       "      <td>82</td>\n",
       "      <td>390</td>\n",
       "      <td>RB1CC1</td>\n",
       "    </tr>\n",
       "  </tbody>\n",
       "</table>\n",
       "</div>"
      ],
      "text/plain": [
       "  mouse_gene_symbol      gene_ensembl-0  n_cells-0  n_cells-1  n_cells-2  \\\n",
       "0            Mrpl15  ENSMUSG00000033845      20003        618       5321   \n",
       "1            Lypla1  ENSMUSG00000025903      10938        411       1846   \n",
       "2             Tcea1  ENSMUSG00000033813      18486        208        826   \n",
       "3           Atp6v1h  ENSMUSG00000033793       8053        140        911   \n",
       "4            Rb1cc1  ENSMUSG00000025907      11350         82        390   \n",
       "\n",
       "  human_gene_symbol  \n",
       "0            MRPL15  \n",
       "1            LYPLA1  \n",
       "2             TCEA1  \n",
       "3           ATP6V1H  \n",
       "4            RB1CC1  "
      ]
     },
     "execution_count": 19,
     "metadata": {},
     "output_type": "execute_result"
    }
   ],
   "source": [
    "adata_var_tmp = adata_pp.var.reset_index()\n",
    "#merge \n",
    "adata_var_merged = adata_var_tmp.merge(mapMouse_Human_orth, how='left', on='mouse_gene_symbol')\n",
    "adata_var_merged.head()"
   ]
  },
  {
   "cell_type": "code",
   "execution_count": 20,
   "metadata": {},
   "outputs": [],
   "source": [
    "adata_var_merged.drop_duplicates(subset='mouse_gene_symbol', keep='first', inplace=True)"
   ]
  },
  {
   "cell_type": "code",
   "execution_count": 21,
   "metadata": {},
   "outputs": [
    {
     "data": {
      "text/plain": [
       "(10108, 6)"
      ]
     },
     "execution_count": 21,
     "metadata": {},
     "output_type": "execute_result"
    }
   ],
   "source": [
    "adata_var_merged.shape"
   ]
  },
  {
   "cell_type": "code",
   "execution_count": 22,
   "metadata": {},
   "outputs": [],
   "source": [
    "adata_var_merged.set_index('mouse_gene_symbol', inplace = True)\n",
    "adata_pp.var = adata_var_merged"
   ]
  },
  {
   "cell_type": "code",
   "execution_count": 23,
   "metadata": {},
   "outputs": [
    {
     "data": {
      "text/plain": [
       "(64446, 9161)"
      ]
     },
     "execution_count": 23,
     "metadata": {},
     "output_type": "execute_result"
    }
   ],
   "source": [
    "adata_pp = adata_pp[:, ~pd.isnull(adata_pp.var['human_gene_symbol'])]\n",
    "adata_pp.shape"
   ]
  },
  {
   "cell_type": "code",
   "execution_count": 24,
   "metadata": {},
   "outputs": [
    {
     "name": "stderr",
     "output_type": "stream",
     "text": [
      "Trying to set attribute `.obs` of view, making a copy.\n",
      "... storing 'batch' as categorical\n",
      "Trying to set attribute `.obs` of view, making a copy.\n",
      "... storing 'chemistry' as categorical\n",
      "Trying to set attribute `.obs` of view, making a copy.\n",
      "... storing 'final_annotation' as categorical\n",
      "Trying to set attribute `.obs` of view, making a copy.\n",
      "... storing 'study' as categorical\n",
      "Trying to set attribute `.obs` of view, making a copy.\n",
      "... storing 'tissue' as categorical\n",
      "Trying to set attribute `.var` of view, making a copy.\n",
      "... storing 'human_gene_symbol' as categorical\n"
     ]
    }
   ],
   "source": [
    "adata_pp.write(results_file)"
   ]
  }
 ],
 "metadata": {
  "kernelspec": {
   "display_name": "Python 3",
   "language": "python",
   "name": "python3"
  },
  "language_info": {
   "codemirror_mode": {
    "name": "ipython",
    "version": 3
   },
   "file_extension": ".py",
   "mimetype": "text/x-python",
   "name": "python",
   "nbconvert_exporter": "python",
   "pygments_lexer": "ipython3",
   "version": "3.7.3"
  }
 },
 "nbformat": 4,
 "nbformat_minor": 2
}
