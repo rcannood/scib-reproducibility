{
 "cells": [
  {
   "cell_type": "markdown",
   "metadata": {},
   "source": [
    "# Human PBMCs - 10X dataset "
   ]
  },
  {
   "cell_type": "code",
   "execution_count": 1,
   "metadata": {},
   "outputs": [],
   "source": [
    "import scanpy as sc\n",
    "import numpy as np\n",
    "import scipy as sp\n",
    "import pandas as pd\n",
    "import matplotlib.pyplot as plt\n",
    "from matplotlib import rcParams\n",
    "from matplotlib import colors\n",
    "import seaborn as sb\n",
    "import glob\n",
    "\n",
    "import rpy2.rinterface_lib.callbacks\n",
    "import logging\n",
    "\n",
    "from rpy2.robjects import pandas2ri\n",
    "import anndata2ri"
   ]
  },
  {
   "cell_type": "code",
   "execution_count": 2,
   "metadata": {},
   "outputs": [
    {
     "name": "stdout",
     "output_type": "stream",
     "text": [
      "scanpy==1.4.4+40.gbd5f862 anndata==0.6.22.post1 umap==0.3.9 numpy==1.15.4 scipy==1.3.0 pandas==0.24.2 scikit-learn==0.21.2 statsmodels==0.10.1 python-igraph==0.7.1 louvain==0.6.1\n"
     ]
    }
   ],
   "source": [
    "# Ignore R warning messages\n",
    "#Note: this can be commented out to get more verbose R output\n",
    "rpy2.rinterface_lib.callbacks.logger.setLevel(logging.ERROR)\n",
    "\n",
    "# Automatically convert rpy2 outputs to pandas dataframes\n",
    "pandas2ri.activate()\n",
    "anndata2ri.activate()\n",
    "%load_ext rpy2.ipython\n",
    "\n",
    "plt.rcParams['figure.figsize']=(8,8) #rescale figures\n",
    "sc.settings.verbosity = 3\n",
    "#sc.set_figure_params(dpi=200, dpi_save=300)\n",
    "sc.logging.print_versions()\n",
    "\n",
    "results_file = './write/10X_hum_PBMCs_pp.h5ad'"
   ]
  },
  {
   "cell_type": "code",
   "execution_count": 3,
   "metadata": {},
   "outputs": [],
   "source": [
    "%%R\n",
    "# Load all the R libraries we will be using in the notebook\n",
    "library(scran)"
   ]
  },
  {
   "cell_type": "markdown",
   "metadata": {},
   "source": [
    "## Load \n",
    "Here we load the pre-processed datasets (which has been annotated), and the raw matrices (which won't be filtered on the gene level). "
   ]
  },
  {
   "cell_type": "markdown",
   "metadata": {},
   "source": [
    "### Raw data"
   ]
  },
  {
   "cell_type": "code",
   "execution_count": 5,
   "metadata": {},
   "outputs": [
    {
     "name": "stdout",
     "output_type": "stream",
     "text": [
      "... reading from cache file cache/..-Munich-datasets-human-10xPBMC-filtered_feature_bc_matrix-matrix.h5ad\n"
     ]
    },
    {
     "data": {
      "text/plain": [
       "(11769, 33538)"
      ]
     },
     "execution_count": 5,
     "metadata": {},
     "output_type": "execute_result"
    }
   ],
   "source": [
    "# Set up data loading\n",
    "file_base = '../Munich/datasets/human/10xPBMC/filtered_feature_bc_matrix/'\n",
    "adata_raw = sc.read_10x_mtx(path=file_base, var_names='gene_symbols', make_unique=True, cache=True, gex_only=True )\n",
    "adata_raw.X = adata_raw.X.toarray()\n",
    "adata_raw.var_names_make_unique()\n",
    "adata_raw.shape"
   ]
  },
  {
   "cell_type": "code",
   "execution_count": 6,
   "metadata": {},
   "outputs": [
    {
     "data": {
      "text/html": [
       "<div>\n",
       "<style scoped>\n",
       "    .dataframe tbody tr th:only-of-type {\n",
       "        vertical-align: middle;\n",
       "    }\n",
       "\n",
       "    .dataframe tbody tr th {\n",
       "        vertical-align: top;\n",
       "    }\n",
       "\n",
       "    .dataframe thead th {\n",
       "        text-align: right;\n",
       "    }\n",
       "</style>\n",
       "<table border=\"1\" class=\"dataframe\">\n",
       "  <thead>\n",
       "    <tr style=\"text-align: right;\">\n",
       "      <th></th>\n",
       "    </tr>\n",
       "    <tr>\n",
       "      <th>0</th>\n",
       "    </tr>\n",
       "  </thead>\n",
       "  <tbody>\n",
       "    <tr>\n",
       "      <th>AAACCCAAGCGCCCAT-1</th>\n",
       "    </tr>\n",
       "    <tr>\n",
       "      <th>AAACCCAAGGTTCCGC-1</th>\n",
       "    </tr>\n",
       "    <tr>\n",
       "      <th>AAACCCACAGAGTTGG-1</th>\n",
       "    </tr>\n",
       "    <tr>\n",
       "      <th>AAACCCACAGGTATGG-1</th>\n",
       "    </tr>\n",
       "    <tr>\n",
       "      <th>AAACCCACATAGTCAC-1</th>\n",
       "    </tr>\n",
       "  </tbody>\n",
       "</table>\n",
       "</div>"
      ],
      "text/plain": [
       "Empty DataFrame\n",
       "Columns: []\n",
       "Index: [AAACCCAAGCGCCCAT-1, AAACCCAAGGTTCCGC-1, AAACCCACAGAGTTGG-1, AAACCCACAGGTATGG-1, AAACCCACATAGTCAC-1]"
      ]
     },
     "execution_count": 6,
     "metadata": {},
     "output_type": "execute_result"
    }
   ],
   "source": [
    "adata_raw.obs.head()"
   ]
  },
  {
   "cell_type": "code",
   "execution_count": 7,
   "metadata": {},
   "outputs": [
    {
     "data": {
      "text/html": [
       "<div>\n",
       "<style scoped>\n",
       "    .dataframe tbody tr th:only-of-type {\n",
       "        vertical-align: middle;\n",
       "    }\n",
       "\n",
       "    .dataframe tbody tr th {\n",
       "        vertical-align: top;\n",
       "    }\n",
       "\n",
       "    .dataframe thead th {\n",
       "        text-align: right;\n",
       "    }\n",
       "</style>\n",
       "<table border=\"1\" class=\"dataframe\">\n",
       "  <thead>\n",
       "    <tr style=\"text-align: right;\">\n",
       "      <th></th>\n",
       "      <th>gene_ids</th>\n",
       "      <th>feature_types</th>\n",
       "    </tr>\n",
       "  </thead>\n",
       "  <tbody>\n",
       "    <tr>\n",
       "      <th>MIR1302-2HG</th>\n",
       "      <td>ENSG00000243485</td>\n",
       "      <td>Gene Expression</td>\n",
       "    </tr>\n",
       "    <tr>\n",
       "      <th>FAM138A</th>\n",
       "      <td>ENSG00000237613</td>\n",
       "      <td>Gene Expression</td>\n",
       "    </tr>\n",
       "    <tr>\n",
       "      <th>OR4F5</th>\n",
       "      <td>ENSG00000186092</td>\n",
       "      <td>Gene Expression</td>\n",
       "    </tr>\n",
       "    <tr>\n",
       "      <th>AL627309.1</th>\n",
       "      <td>ENSG00000238009</td>\n",
       "      <td>Gene Expression</td>\n",
       "    </tr>\n",
       "    <tr>\n",
       "      <th>AL627309.3</th>\n",
       "      <td>ENSG00000239945</td>\n",
       "      <td>Gene Expression</td>\n",
       "    </tr>\n",
       "  </tbody>\n",
       "</table>\n",
       "</div>"
      ],
      "text/plain": [
       "                    gene_ids    feature_types\n",
       "MIR1302-2HG  ENSG00000243485  Gene Expression\n",
       "FAM138A      ENSG00000237613  Gene Expression\n",
       "OR4F5        ENSG00000186092  Gene Expression\n",
       "AL627309.1   ENSG00000238009  Gene Expression\n",
       "AL627309.3   ENSG00000239945  Gene Expression"
      ]
     },
     "execution_count": 7,
     "metadata": {},
     "output_type": "execute_result"
    }
   ],
   "source": [
    "adata_raw.var.head()"
   ]
  },
  {
   "cell_type": "code",
   "execution_count": 8,
   "metadata": {},
   "outputs": [
    {
     "data": {
      "text/html": [
       "<div>\n",
       "<style scoped>\n",
       "    .dataframe tbody tr th:only-of-type {\n",
       "        vertical-align: middle;\n",
       "    }\n",
       "\n",
       "    .dataframe tbody tr th {\n",
       "        vertical-align: top;\n",
       "    }\n",
       "\n",
       "    .dataframe thead th {\n",
       "        text-align: right;\n",
       "    }\n",
       "</style>\n",
       "<table border=\"1\" class=\"dataframe\">\n",
       "  <thead>\n",
       "    <tr style=\"text-align: right;\">\n",
       "      <th></th>\n",
       "      <th>batch</th>\n",
       "      <th>study</th>\n",
       "      <th>chemistry</th>\n",
       "      <th>tissue</th>\n",
       "      <th>species</th>\n",
       "      <th>data_type</th>\n",
       "    </tr>\n",
       "    <tr>\n",
       "      <th>barcode</th>\n",
       "      <th></th>\n",
       "      <th></th>\n",
       "      <th></th>\n",
       "      <th></th>\n",
       "      <th></th>\n",
       "      <th></th>\n",
       "    </tr>\n",
       "  </thead>\n",
       "  <tbody>\n",
       "    <tr>\n",
       "      <th>AAACCCAAGCGCCCAT-1</th>\n",
       "      <td>10X</td>\n",
       "      <td>10X</td>\n",
       "      <td>v3_10X</td>\n",
       "      <td>PBMCs</td>\n",
       "      <td>Human</td>\n",
       "      <td>UMI</td>\n",
       "    </tr>\n",
       "    <tr>\n",
       "      <th>AAACCCAAGGTTCCGC-1</th>\n",
       "      <td>10X</td>\n",
       "      <td>10X</td>\n",
       "      <td>v3_10X</td>\n",
       "      <td>PBMCs</td>\n",
       "      <td>Human</td>\n",
       "      <td>UMI</td>\n",
       "    </tr>\n",
       "    <tr>\n",
       "      <th>AAACCCACAGAGTTGG-1</th>\n",
       "      <td>10X</td>\n",
       "      <td>10X</td>\n",
       "      <td>v3_10X</td>\n",
       "      <td>PBMCs</td>\n",
       "      <td>Human</td>\n",
       "      <td>UMI</td>\n",
       "    </tr>\n",
       "    <tr>\n",
       "      <th>AAACCCACAGGTATGG-1</th>\n",
       "      <td>10X</td>\n",
       "      <td>10X</td>\n",
       "      <td>v3_10X</td>\n",
       "      <td>PBMCs</td>\n",
       "      <td>Human</td>\n",
       "      <td>UMI</td>\n",
       "    </tr>\n",
       "    <tr>\n",
       "      <th>AAACCCACATAGTCAC-1</th>\n",
       "      <td>10X</td>\n",
       "      <td>10X</td>\n",
       "      <td>v3_10X</td>\n",
       "      <td>PBMCs</td>\n",
       "      <td>Human</td>\n",
       "      <td>UMI</td>\n",
       "    </tr>\n",
       "  </tbody>\n",
       "</table>\n",
       "</div>"
      ],
      "text/plain": [
       "                   batch study chemistry tissue species data_type\n",
       "barcode                                                          \n",
       "AAACCCAAGCGCCCAT-1   10X   10X    v3_10X  PBMCs   Human       UMI\n",
       "AAACCCAAGGTTCCGC-1   10X   10X    v3_10X  PBMCs   Human       UMI\n",
       "AAACCCACAGAGTTGG-1   10X   10X    v3_10X  PBMCs   Human       UMI\n",
       "AAACCCACAGGTATGG-1   10X   10X    v3_10X  PBMCs   Human       UMI\n",
       "AAACCCACATAGTCAC-1   10X   10X    v3_10X  PBMCs   Human       UMI"
      ]
     },
     "execution_count": 8,
     "metadata": {},
     "output_type": "execute_result"
    }
   ],
   "source": [
    "#Annotate data\n",
    "adata_raw.obs.index.rename('barcode', inplace=True)\n",
    "\n",
    "adata_raw.obs['batch'] = ['10X']*adata_raw.n_obs\n",
    "adata_raw.obs['study'] = ['10X']*adata_raw.n_obs\n",
    "adata_raw.obs['chemistry'] = ['v3_10X']*adata_raw.n_obs\n",
    "adata_raw.obs['tissue'] = ['PBMCs']*adata_raw.n_obs\n",
    "adata_raw.obs['species'] = ['Human']*adata_raw.n_obs\n",
    "adata_raw.obs['data_type'] = ['UMI']*adata_raw.n_obs\n",
    "adata_raw.obs.head()"
   ]
  },
  {
   "cell_type": "code",
   "execution_count": 9,
   "metadata": {},
   "outputs": [
    {
     "data": {
      "text/html": [
       "<div>\n",
       "<style scoped>\n",
       "    .dataframe tbody tr th:only-of-type {\n",
       "        vertical-align: middle;\n",
       "    }\n",
       "\n",
       "    .dataframe tbody tr th {\n",
       "        vertical-align: top;\n",
       "    }\n",
       "\n",
       "    .dataframe thead th {\n",
       "        text-align: right;\n",
       "    }\n",
       "</style>\n",
       "<table border=\"1\" class=\"dataframe\">\n",
       "  <thead>\n",
       "    <tr style=\"text-align: right;\">\n",
       "      <th></th>\n",
       "      <th>batch</th>\n",
       "      <th>study</th>\n",
       "      <th>chemistry</th>\n",
       "      <th>tissue</th>\n",
       "      <th>species</th>\n",
       "      <th>data_type</th>\n",
       "    </tr>\n",
       "    <tr>\n",
       "      <th>barcode</th>\n",
       "      <th></th>\n",
       "      <th></th>\n",
       "      <th></th>\n",
       "      <th></th>\n",
       "      <th></th>\n",
       "      <th></th>\n",
       "    </tr>\n",
       "  </thead>\n",
       "  <tbody>\n",
       "    <tr>\n",
       "      <th>AAACCCAAGCGCCCAT-1-10X</th>\n",
       "      <td>10X</td>\n",
       "      <td>10X</td>\n",
       "      <td>v3_10X</td>\n",
       "      <td>PBMCs</td>\n",
       "      <td>Human</td>\n",
       "      <td>UMI</td>\n",
       "    </tr>\n",
       "    <tr>\n",
       "      <th>AAACCCAAGGTTCCGC-1-10X</th>\n",
       "      <td>10X</td>\n",
       "      <td>10X</td>\n",
       "      <td>v3_10X</td>\n",
       "      <td>PBMCs</td>\n",
       "      <td>Human</td>\n",
       "      <td>UMI</td>\n",
       "    </tr>\n",
       "    <tr>\n",
       "      <th>AAACCCACAGAGTTGG-1-10X</th>\n",
       "      <td>10X</td>\n",
       "      <td>10X</td>\n",
       "      <td>v3_10X</td>\n",
       "      <td>PBMCs</td>\n",
       "      <td>Human</td>\n",
       "      <td>UMI</td>\n",
       "    </tr>\n",
       "    <tr>\n",
       "      <th>AAACCCACAGGTATGG-1-10X</th>\n",
       "      <td>10X</td>\n",
       "      <td>10X</td>\n",
       "      <td>v3_10X</td>\n",
       "      <td>PBMCs</td>\n",
       "      <td>Human</td>\n",
       "      <td>UMI</td>\n",
       "    </tr>\n",
       "    <tr>\n",
       "      <th>AAACCCACATAGTCAC-1-10X</th>\n",
       "      <td>10X</td>\n",
       "      <td>10X</td>\n",
       "      <td>v3_10X</td>\n",
       "      <td>PBMCs</td>\n",
       "      <td>Human</td>\n",
       "      <td>UMI</td>\n",
       "    </tr>\n",
       "  </tbody>\n",
       "</table>\n",
       "</div>"
      ],
      "text/plain": [
       "                       batch study chemistry tissue species data_type\n",
       "barcode                                                              \n",
       "AAACCCAAGCGCCCAT-1-10X   10X   10X    v3_10X  PBMCs   Human       UMI\n",
       "AAACCCAAGGTTCCGC-1-10X   10X   10X    v3_10X  PBMCs   Human       UMI\n",
       "AAACCCACAGAGTTGG-1-10X   10X   10X    v3_10X  PBMCs   Human       UMI\n",
       "AAACCCACAGGTATGG-1-10X   10X   10X    v3_10X  PBMCs   Human       UMI\n",
       "AAACCCACATAGTCAC-1-10X   10X   10X    v3_10X  PBMCs   Human       UMI"
      ]
     },
     "execution_count": 9,
     "metadata": {},
     "output_type": "execute_result"
    }
   ],
   "source": [
    "adata_obs = adata_raw.obs.reset_index()\n",
    "adata_obs['barcode'] = adata_obs['barcode']+['-10X']*adata_raw.n_obs\n",
    "adata_obs.set_index('barcode', inplace = True)\n",
    "adata_raw.obs = adata_obs\n",
    "adata_raw.obs.head()"
   ]
  },
  {
   "cell_type": "markdown",
   "metadata": {},
   "source": [
    "### Pre-processed data"
   ]
  },
  {
   "cell_type": "code",
   "execution_count": 13,
   "metadata": {},
   "outputs": [
    {
     "data": {
      "text/plain": [
       "(10727, 15834)"
      ]
     },
     "execution_count": 13,
     "metadata": {},
     "output_type": "execute_result"
    }
   ],
   "source": [
    "file_paths = '../PBMC_human/write/pbmc10x_10kv3.h5ad'\n",
    "adata_pp = sc.read(file_paths, cache=True)\n",
    "adata_pp.shape"
   ]
  },
  {
   "cell_type": "code",
   "execution_count": 12,
   "metadata": {},
   "outputs": [
    {
     "data": {
      "text/html": [
       "<div>\n",
       "<style scoped>\n",
       "    .dataframe tbody tr th:only-of-type {\n",
       "        vertical-align: middle;\n",
       "    }\n",
       "\n",
       "    .dataframe tbody tr th {\n",
       "        vertical-align: top;\n",
       "    }\n",
       "\n",
       "    .dataframe thead th {\n",
       "        text-align: right;\n",
       "    }\n",
       "</style>\n",
       "<table border=\"1\" class=\"dataframe\">\n",
       "  <thead>\n",
       "    <tr style=\"text-align: right;\">\n",
       "      <th></th>\n",
       "      <th>n_counts</th>\n",
       "      <th>log_counts</th>\n",
       "      <th>n_genes</th>\n",
       "      <th>mt_frac</th>\n",
       "      <th>size_factors</th>\n",
       "      <th>louvain_r1</th>\n",
       "      <th>louvain_r1_clust4_sub</th>\n",
       "      <th>louvain_r1_clust4_sub_12</th>\n",
       "      <th>final_annotation</th>\n",
       "    </tr>\n",
       "    <tr>\n",
       "      <th>index</th>\n",
       "      <th></th>\n",
       "      <th></th>\n",
       "      <th></th>\n",
       "      <th></th>\n",
       "      <th></th>\n",
       "      <th></th>\n",
       "      <th></th>\n",
       "      <th></th>\n",
       "      <th></th>\n",
       "    </tr>\n",
       "  </thead>\n",
       "  <tbody>\n",
       "    <tr>\n",
       "      <th>AAACCCAAGCGCCCAT-1</th>\n",
       "      <td>2204.0</td>\n",
       "      <td>7.698029</td>\n",
       "      <td>1087</td>\n",
       "      <td>0.023593</td>\n",
       "      <td>0.331484</td>\n",
       "      <td>0</td>\n",
       "      <td>0</td>\n",
       "      <td>0</td>\n",
       "      <td>CD4+ T cells</td>\n",
       "    </tr>\n",
       "    <tr>\n",
       "      <th>AAACCCAAGGTTCCGC-1</th>\n",
       "      <td>20090.0</td>\n",
       "      <td>9.907977</td>\n",
       "      <td>4200</td>\n",
       "      <td>0.065903</td>\n",
       "      <td>2.704702</td>\n",
       "      <td>14</td>\n",
       "      <td>14</td>\n",
       "      <td>14</td>\n",
       "      <td>Monocyte-derived dendritic cells</td>\n",
       "    </tr>\n",
       "    <tr>\n",
       "      <th>AAACCCACAGAGTTGG-1</th>\n",
       "      <td>5884.0</td>\n",
       "      <td>8.679992</td>\n",
       "      <td>1836</td>\n",
       "      <td>0.107580</td>\n",
       "      <td>0.669080</td>\n",
       "      <td>2</td>\n",
       "      <td>2</td>\n",
       "      <td>2</td>\n",
       "      <td>CD14+ Monocytes</td>\n",
       "    </tr>\n",
       "    <tr>\n",
       "      <th>AAACCCACAGGTATGG-1</th>\n",
       "      <td>5530.0</td>\n",
       "      <td>8.617943</td>\n",
       "      <td>2216</td>\n",
       "      <td>0.078481</td>\n",
       "      <td>0.944791</td>\n",
       "      <td>5</td>\n",
       "      <td>5</td>\n",
       "      <td>5</td>\n",
       "      <td>NK cells</td>\n",
       "    </tr>\n",
       "    <tr>\n",
       "      <th>AAACCCACATAGTCAC-1</th>\n",
       "      <td>5106.0</td>\n",
       "      <td>8.538172</td>\n",
       "      <td>1615</td>\n",
       "      <td>0.108304</td>\n",
       "      <td>0.569415</td>\n",
       "      <td>7</td>\n",
       "      <td>7</td>\n",
       "      <td>7</td>\n",
       "      <td>CD20+ B cells</td>\n",
       "    </tr>\n",
       "  </tbody>\n",
       "</table>\n",
       "</div>"
      ],
      "text/plain": [
       "                    n_counts  log_counts  n_genes   mt_frac  size_factors  \\\n",
       "index                                                                       \n",
       "AAACCCAAGCGCCCAT-1    2204.0    7.698029     1087  0.023593      0.331484   \n",
       "AAACCCAAGGTTCCGC-1   20090.0    9.907977     4200  0.065903      2.704702   \n",
       "AAACCCACAGAGTTGG-1    5884.0    8.679992     1836  0.107580      0.669080   \n",
       "AAACCCACAGGTATGG-1    5530.0    8.617943     2216  0.078481      0.944791   \n",
       "AAACCCACATAGTCAC-1    5106.0    8.538172     1615  0.108304      0.569415   \n",
       "\n",
       "                   louvain_r1 louvain_r1_clust4_sub louvain_r1_clust4_sub_12  \\\n",
       "index                                                                          \n",
       "AAACCCAAGCGCCCAT-1          0                     0                        0   \n",
       "AAACCCAAGGTTCCGC-1         14                    14                       14   \n",
       "AAACCCACAGAGTTGG-1          2                     2                        2   \n",
       "AAACCCACAGGTATGG-1          5                     5                        5   \n",
       "AAACCCACATAGTCAC-1          7                     7                        7   \n",
       "\n",
       "                                    final_annotation  \n",
       "index                                                 \n",
       "AAACCCAAGCGCCCAT-1                      CD4+ T cells  \n",
       "AAACCCAAGGTTCCGC-1  Monocyte-derived dendritic cells  \n",
       "AAACCCACAGAGTTGG-1                   CD14+ Monocytes  \n",
       "AAACCCACAGGTATGG-1                          NK cells  \n",
       "AAACCCACATAGTCAC-1                     CD20+ B cells  "
      ]
     },
     "execution_count": 12,
     "metadata": {},
     "output_type": "execute_result"
    }
   ],
   "source": [
    "adata_pp.obs.head()"
   ]
  },
  {
   "cell_type": "code",
   "execution_count": 14,
   "metadata": {},
   "outputs": [
    {
     "data": {
      "text/html": [
       "<div>\n",
       "<style scoped>\n",
       "    .dataframe tbody tr th:only-of-type {\n",
       "        vertical-align: middle;\n",
       "    }\n",
       "\n",
       "    .dataframe tbody tr th {\n",
       "        vertical-align: top;\n",
       "    }\n",
       "\n",
       "    .dataframe thead th {\n",
       "        text-align: right;\n",
       "    }\n",
       "</style>\n",
       "<table border=\"1\" class=\"dataframe\">\n",
       "  <thead>\n",
       "    <tr style=\"text-align: right;\">\n",
       "      <th></th>\n",
       "      <th>final_annotation</th>\n",
       "      <th>n_counts</th>\n",
       "      <th>n_genes</th>\n",
       "      <th>mt_frac</th>\n",
       "    </tr>\n",
       "    <tr>\n",
       "      <th>barcode</th>\n",
       "      <th></th>\n",
       "      <th></th>\n",
       "      <th></th>\n",
       "      <th></th>\n",
       "    </tr>\n",
       "  </thead>\n",
       "  <tbody>\n",
       "    <tr>\n",
       "      <th>AAACCCAAGCGCCCAT-1-10X</th>\n",
       "      <td>CD4+ T cells</td>\n",
       "      <td>2204.0</td>\n",
       "      <td>1087</td>\n",
       "      <td>0.023593</td>\n",
       "    </tr>\n",
       "    <tr>\n",
       "      <th>AAACCCAAGGTTCCGC-1-10X</th>\n",
       "      <td>Monocyte-derived dendritic cells</td>\n",
       "      <td>20090.0</td>\n",
       "      <td>4200</td>\n",
       "      <td>0.065903</td>\n",
       "    </tr>\n",
       "    <tr>\n",
       "      <th>AAACCCACAGAGTTGG-1-10X</th>\n",
       "      <td>CD14+ Monocytes</td>\n",
       "      <td>5884.0</td>\n",
       "      <td>1836</td>\n",
       "      <td>0.107580</td>\n",
       "    </tr>\n",
       "    <tr>\n",
       "      <th>AAACCCACAGGTATGG-1-10X</th>\n",
       "      <td>NK cells</td>\n",
       "      <td>5530.0</td>\n",
       "      <td>2216</td>\n",
       "      <td>0.078481</td>\n",
       "    </tr>\n",
       "    <tr>\n",
       "      <th>AAACCCACATAGTCAC-1-10X</th>\n",
       "      <td>CD20+ B cells</td>\n",
       "      <td>5106.0</td>\n",
       "      <td>1615</td>\n",
       "      <td>0.108304</td>\n",
       "    </tr>\n",
       "  </tbody>\n",
       "</table>\n",
       "</div>"
      ],
      "text/plain": [
       "                                        final_annotation  n_counts  n_genes  \\\n",
       "barcode                                                                       \n",
       "AAACCCAAGCGCCCAT-1-10X                      CD4+ T cells    2204.0     1087   \n",
       "AAACCCAAGGTTCCGC-1-10X  Monocyte-derived dendritic cells   20090.0     4200   \n",
       "AAACCCACAGAGTTGG-1-10X                   CD14+ Monocytes    5884.0     1836   \n",
       "AAACCCACAGGTATGG-1-10X                          NK cells    5530.0     2216   \n",
       "AAACCCACATAGTCAC-1-10X                     CD20+ B cells    5106.0     1615   \n",
       "\n",
       "                         mt_frac  \n",
       "barcode                           \n",
       "AAACCCAAGCGCCCAT-1-10X  0.023593  \n",
       "AAACCCAAGGTTCCGC-1-10X  0.065903  \n",
       "AAACCCACAGAGTTGG-1-10X  0.107580  \n",
       "AAACCCACAGGTATGG-1-10X  0.078481  \n",
       "AAACCCACATAGTCAC-1-10X  0.108304  "
      ]
     },
     "execution_count": 14,
     "metadata": {},
     "output_type": "execute_result"
    }
   ],
   "source": [
    "adata_obs = adata_pp.obs.reset_index()\n",
    "adata_obs = adata_obs[['index', 'final_annotation', 'n_counts', 'n_genes', 'mt_frac']].rename(columns = {'index':'barcode'})\n",
    "adata_obs['barcode'] = adata_obs['barcode']+['-10X']*adata_pp.n_obs\n",
    "adata_obs.set_index('barcode', inplace = True)\n",
    "adata_pp.obs = adata_obs\n",
    "adata_pp.obs.head()"
   ]
  },
  {
   "cell_type": "code",
   "execution_count": 15,
   "metadata": {},
   "outputs": [
    {
     "data": {
      "text/html": [
       "<div>\n",
       "<style scoped>\n",
       "    .dataframe tbody tr th:only-of-type {\n",
       "        vertical-align: middle;\n",
       "    }\n",
       "\n",
       "    .dataframe tbody tr th {\n",
       "        vertical-align: top;\n",
       "    }\n",
       "\n",
       "    .dataframe thead th {\n",
       "        text-align: right;\n",
       "    }\n",
       "</style>\n",
       "<table border=\"1\" class=\"dataframe\">\n",
       "  <thead>\n",
       "    <tr style=\"text-align: right;\">\n",
       "      <th></th>\n",
       "      <th>batch</th>\n",
       "      <th>study</th>\n",
       "      <th>chemistry</th>\n",
       "      <th>tissue</th>\n",
       "      <th>species</th>\n",
       "      <th>data_type</th>\n",
       "      <th>final_annotation</th>\n",
       "      <th>n_counts</th>\n",
       "      <th>n_genes</th>\n",
       "      <th>mt_frac</th>\n",
       "    </tr>\n",
       "    <tr>\n",
       "      <th>barcode</th>\n",
       "      <th></th>\n",
       "      <th></th>\n",
       "      <th></th>\n",
       "      <th></th>\n",
       "      <th></th>\n",
       "      <th></th>\n",
       "      <th></th>\n",
       "      <th></th>\n",
       "      <th></th>\n",
       "      <th></th>\n",
       "    </tr>\n",
       "  </thead>\n",
       "  <tbody>\n",
       "    <tr>\n",
       "      <th>AAACCCAAGCGCCCAT-1-10X</th>\n",
       "      <td>10X</td>\n",
       "      <td>10X</td>\n",
       "      <td>v3_10X</td>\n",
       "      <td>PBMCs</td>\n",
       "      <td>Human</td>\n",
       "      <td>UMI</td>\n",
       "      <td>CD4+ T cells</td>\n",
       "      <td>2204.0</td>\n",
       "      <td>1087.0</td>\n",
       "      <td>0.023593</td>\n",
       "    </tr>\n",
       "    <tr>\n",
       "      <th>AAACCCAAGGTTCCGC-1-10X</th>\n",
       "      <td>10X</td>\n",
       "      <td>10X</td>\n",
       "      <td>v3_10X</td>\n",
       "      <td>PBMCs</td>\n",
       "      <td>Human</td>\n",
       "      <td>UMI</td>\n",
       "      <td>Monocyte-derived dendritic cells</td>\n",
       "      <td>20090.0</td>\n",
       "      <td>4200.0</td>\n",
       "      <td>0.065903</td>\n",
       "    </tr>\n",
       "    <tr>\n",
       "      <th>AAACCCACAGAGTTGG-1-10X</th>\n",
       "      <td>10X</td>\n",
       "      <td>10X</td>\n",
       "      <td>v3_10X</td>\n",
       "      <td>PBMCs</td>\n",
       "      <td>Human</td>\n",
       "      <td>UMI</td>\n",
       "      <td>CD14+ Monocytes</td>\n",
       "      <td>5884.0</td>\n",
       "      <td>1836.0</td>\n",
       "      <td>0.107580</td>\n",
       "    </tr>\n",
       "    <tr>\n",
       "      <th>AAACCCACAGGTATGG-1-10X</th>\n",
       "      <td>10X</td>\n",
       "      <td>10X</td>\n",
       "      <td>v3_10X</td>\n",
       "      <td>PBMCs</td>\n",
       "      <td>Human</td>\n",
       "      <td>UMI</td>\n",
       "      <td>NK cells</td>\n",
       "      <td>5530.0</td>\n",
       "      <td>2216.0</td>\n",
       "      <td>0.078481</td>\n",
       "    </tr>\n",
       "    <tr>\n",
       "      <th>AAACCCACATAGTCAC-1-10X</th>\n",
       "      <td>10X</td>\n",
       "      <td>10X</td>\n",
       "      <td>v3_10X</td>\n",
       "      <td>PBMCs</td>\n",
       "      <td>Human</td>\n",
       "      <td>UMI</td>\n",
       "      <td>CD20+ B cells</td>\n",
       "      <td>5106.0</td>\n",
       "      <td>1615.0</td>\n",
       "      <td>0.108304</td>\n",
       "    </tr>\n",
       "  </tbody>\n",
       "</table>\n",
       "</div>"
      ],
      "text/plain": [
       "                       batch study chemistry tissue species data_type  \\\n",
       "barcode                                                                 \n",
       "AAACCCAAGCGCCCAT-1-10X   10X   10X    v3_10X  PBMCs   Human       UMI   \n",
       "AAACCCAAGGTTCCGC-1-10X   10X   10X    v3_10X  PBMCs   Human       UMI   \n",
       "AAACCCACAGAGTTGG-1-10X   10X   10X    v3_10X  PBMCs   Human       UMI   \n",
       "AAACCCACAGGTATGG-1-10X   10X   10X    v3_10X  PBMCs   Human       UMI   \n",
       "AAACCCACATAGTCAC-1-10X   10X   10X    v3_10X  PBMCs   Human       UMI   \n",
       "\n",
       "                                        final_annotation  n_counts  n_genes  \\\n",
       "barcode                                                                       \n",
       "AAACCCAAGCGCCCAT-1-10X                      CD4+ T cells    2204.0   1087.0   \n",
       "AAACCCAAGGTTCCGC-1-10X  Monocyte-derived dendritic cells   20090.0   4200.0   \n",
       "AAACCCACAGAGTTGG-1-10X                   CD14+ Monocytes    5884.0   1836.0   \n",
       "AAACCCACAGGTATGG-1-10X                          NK cells    5530.0   2216.0   \n",
       "AAACCCACATAGTCAC-1-10X                     CD20+ B cells    5106.0   1615.0   \n",
       "\n",
       "                         mt_frac  \n",
       "barcode                           \n",
       "AAACCCAAGCGCCCAT-1-10X  0.023593  \n",
       "AAACCCAAGGTTCCGC-1-10X  0.065903  \n",
       "AAACCCACAGAGTTGG-1-10X  0.107580  \n",
       "AAACCCACAGGTATGG-1-10X  0.078481  \n",
       "AAACCCACATAGTCAC-1-10X  0.108304  "
      ]
     },
     "execution_count": 15,
     "metadata": {},
     "output_type": "execute_result"
    }
   ],
   "source": [
    "# Restrict to cells that passed QC and were annotated\n",
    "adata_obs_raw = adata_raw.obs.reset_index()\n",
    "adata_obs_pp = adata_pp.obs.reset_index()\n",
    "adata_merged = adata_obs_raw.merge(adata_obs_pp, on='barcode', how='left')\n",
    "adata_merged.set_index('barcode', inplace = True)\n",
    "adata_raw.obs = adata_merged\n",
    "adata_raw.obs.head()"
   ]
  },
  {
   "cell_type": "code",
   "execution_count": 16,
   "metadata": {},
   "outputs": [
    {
     "data": {
      "text/plain": [
       "(10727, 33538)"
      ]
     },
     "execution_count": 16,
     "metadata": {},
     "output_type": "execute_result"
    }
   ],
   "source": [
    "adata_raw = adata_raw[~pd.isnull(adata_raw.obs['final_annotation'])]\n",
    "adata_raw.shape"
   ]
  },
  {
   "cell_type": "markdown",
   "metadata": {},
   "source": [
    "### Normalization"
   ]
  },
  {
   "cell_type": "code",
   "execution_count": 17,
   "metadata": {},
   "outputs": [
    {
     "name": "stdout",
     "output_type": "stream",
     "text": [
      "Total number of genes: 33538\n",
      "filtered out 10572 genes that are detectedin less than 1 cells\n"
     ]
    },
    {
     "name": "stderr",
     "output_type": "stream",
     "text": [
      "Trying to set attribute `.var` of view, making a copy.\n"
     ]
    },
    {
     "name": "stdout",
     "output_type": "stream",
     "text": [
      "Number of genes after cell filter: 22966\n"
     ]
    }
   ],
   "source": [
    "# Exclude genes that are = 0 in all cells\n",
    "#Filter genes:\n",
    "print('Total number of genes: {:d}'.format(adata_raw.n_vars))\n",
    "\n",
    "# Min 20 cells - filters out 0 count genes\n",
    "sc.pp.filter_genes(adata_raw, min_cells=1)\n",
    "print('Number of genes after cell filter: {:d}'.format(adata_raw.n_vars))"
   ]
  },
  {
   "cell_type": "code",
   "execution_count": 18,
   "metadata": {},
   "outputs": [
    {
     "name": "stdout",
     "output_type": "stream",
     "text": [
      "normalizing by total count per cell\n",
      "    finished (0:00:01): normalized adata.X and added    'n_counts', counts per cell before normalization (adata.obs)\n",
      "computing PCA with n_comps = 15\n",
      "    finished (0:00:05)\n",
      "computing neighbors\n",
      "    using 'X_pca' with n_pcs = 15\n",
      "    finished: added to `.uns['neighbors']`\n",
      "    'distances', distances for each pair of neighbors\n",
      "    'connectivities', weighted adjacency matrix (0:00:07)\n",
      "running Louvain clustering\n",
      "    using the \"louvain\" package of Traag (2017)\n",
      "    finished: found 12 clusters and added\n",
      "    'groups', the cluster labels (adata.obs, categorical) (0:00:01)\n"
     ]
    }
   ],
   "source": [
    "#Perform a clustering for scran normalization in clusters\n",
    "adata_pp = adata_raw.copy()\n",
    "sc.pp.normalize_per_cell(adata_pp, counts_per_cell_after=1e6)\n",
    "sc.pp.log1p(adata_pp)\n",
    "sc.pp.pca(adata_pp, n_comps=15, svd_solver='arpack')\n",
    "sc.pp.neighbors(adata_pp)\n",
    "sc.tl.louvain(adata_pp, key_added='groups', resolution=0.5)"
   ]
  },
  {
   "cell_type": "code",
   "execution_count": 19,
   "metadata": {},
   "outputs": [
    {
     "data": {
      "text/plain": [
       "0     2098\n",
       "1     1901\n",
       "2     1448\n",
       "3     1446\n",
       "4     1026\n",
       "5      893\n",
       "6      730\n",
       "7      558\n",
       "8      317\n",
       "9      209\n",
       "10      80\n",
       "11      21\n",
       "Name: groups, dtype: int64"
      ]
     },
     "execution_count": 19,
     "metadata": {},
     "output_type": "execute_result"
    }
   ],
   "source": [
    "# Check if the minimum number of cells per cluster is < 21:in that case, sizes will be also passed as input to the normalization\n",
    "adata_pp.obs['groups'].value_counts()"
   ]
  },
  {
   "cell_type": "code",
   "execution_count": 20,
   "metadata": {},
   "outputs": [],
   "source": [
    "#Preprocess variables for scran normalization\n",
    "input_groups = adata_pp.obs['groups']\n",
    "data_mat = adata_raw.X.T"
   ]
  },
  {
   "cell_type": "code",
   "execution_count": 21,
   "metadata": {},
   "outputs": [],
   "source": [
    "%%R -i data_mat -i input_groups -o size_factors\n",
    "\n",
    "size_factors = computeSumFactors(data_mat, clusters=input_groups, min.mean=0.1)"
   ]
  },
  {
   "cell_type": "code",
   "execution_count": 22,
   "metadata": {},
   "outputs": [],
   "source": [
    "#Delete adata_pp\n",
    "del adata_pp"
   ]
  },
  {
   "cell_type": "code",
   "execution_count": 23,
   "metadata": {},
   "outputs": [
    {
     "name": "stderr",
     "output_type": "stream",
     "text": [
      "... storing 'batch' as categorical\n",
      "... storing 'study' as categorical\n",
      "... storing 'chemistry' as categorical\n",
      "... storing 'tissue' as categorical\n",
      "... storing 'species' as categorical\n",
      "... storing 'data_type' as categorical\n",
      "... storing 'feature_types' as categorical\n"
     ]
    },
    {
     "data": {
      "image/png": "[encoded data removed]",
      "text/plain": [
       "<Figure size 671.674x576 with 1 Axes>"
      ]
     },
     "metadata": {
      "needs_background": "light"
     },
     "output_type": "display_data"
    },
    {
     "data": {
      "image/png": "[encoded data removed]",
      "text/plain": [
       "<Figure size 671.674x576 with 1 Axes>"
      ]
     },
     "metadata": {
      "needs_background": "light"
     },
     "output_type": "display_data"
    },
    {
     "data": {
      "image/png": "[encoded data removed]",
      "text/plain": [
       "<Figure size 576x576 with 1 Axes>"
      ]
     },
     "metadata": {
      "needs_background": "light"
     },
     "output_type": "display_data"
    }
   ],
   "source": [
    "# Visualize the estimated size factors\n",
    "adata_raw.obs['size_factors'] = size_factors\n",
    "\n",
    "sc.pl.scatter(adata_raw, 'size_factors', 'n_counts')\n",
    "sc.pl.scatter(adata_raw, 'size_factors', 'n_genes')\n",
    "\n",
    "sb.distplot(size_factors, bins=50, kde=False)\n",
    "plt.show()"
   ]
  },
  {
   "cell_type": "code",
   "execution_count": 24,
   "metadata": {},
   "outputs": [],
   "source": [
    "#Keep the count data in a counts layer\n",
    "adata_raw.layers[\"counts\"] = adata_raw.X.copy()"
   ]
  },
  {
   "cell_type": "code",
   "execution_count": 25,
   "metadata": {},
   "outputs": [],
   "source": [
    "#Normalize adata \n",
    "adata_raw.X /= adata_raw.obs['size_factors'].values[:,None]\n",
    "sc.pp.log1p(adata_raw)"
   ]
  },
  {
   "cell_type": "code",
   "execution_count": 26,
   "metadata": {},
   "outputs": [],
   "source": [
    "# Save final merged object\n",
    "adata_raw.write(results_file)"
   ]
  }
 ],
 "metadata": {
  "kernelspec": {
   "display_name": "Python 3",
   "language": "python",
   "name": "python3"
  },
  "language_info": {
   "codemirror_mode": {
    "name": "ipython",
    "version": 3
   },
   "file_extension": ".py",
   "mimetype": "text/x-python",
   "name": "python",
   "nbconvert_exporter": "python",
   "pygments_lexer": "ipython3",
   "version": "3.7.3"
  }
 },
 "nbformat": 4,
 "nbformat_minor": 2
}
