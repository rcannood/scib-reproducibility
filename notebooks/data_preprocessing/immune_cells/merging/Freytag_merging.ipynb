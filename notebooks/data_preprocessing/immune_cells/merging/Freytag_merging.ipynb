{
 "cells": [
  {
   "cell_type": "markdown",
   "metadata": {},
   "source": [
    "# Human PBMCs - Freytag et al. dataset "
   ]
  },
  {
   "cell_type": "code",
   "execution_count": 1,
   "metadata": {},
   "outputs": [],
   "source": [
    "import scanpy as sc\n",
    "import numpy as np\n",
    "import scipy as sp\n",
    "import pandas as pd\n",
    "import matplotlib.pyplot as plt\n",
    "from matplotlib import rcParams\n",
    "from matplotlib import colors\n",
    "import seaborn as sb\n",
    "import glob\n",
    "\n",
    "import rpy2.rinterface_lib.callbacks\n",
    "import logging\n",
    "\n",
    "from rpy2.robjects import pandas2ri\n",
    "import anndata2ri"
   ]
  },
  {
   "cell_type": "code",
   "execution_count": 2,
   "metadata": {},
   "outputs": [
    {
     "name": "stdout",
     "output_type": "stream",
     "text": [
      "scanpy==1.4.4+40.gbd5f862 anndata==0.6.22.post1 umap==0.3.9 numpy==1.15.4 scipy==1.3.0 pandas==0.24.2 scikit-learn==0.21.2 statsmodels==0.10.1 python-igraph==0.7.1 louvain==0.6.1\n"
     ]
    }
   ],
   "source": [
    "# Ignore R warning messages\n",
    "#Note: this can be commented out to get more verbose R output\n",
    "rpy2.rinterface_lib.callbacks.logger.setLevel(logging.ERROR)\n",
    "\n",
    "# Automatically convert rpy2 outputs to pandas dataframes\n",
    "pandas2ri.activate()\n",
    "anndata2ri.activate()\n",
    "%load_ext rpy2.ipython\n",
    "\n",
    "plt.rcParams['figure.figsize']=(8,8) #rescale figures\n",
    "sc.settings.verbosity = 3\n",
    "#sc.set_figure_params(dpi=200, dpi_save=300)\n",
    "sc.logging.print_versions()\n",
    "\n",
    "results_file = './write/Freytag_hum_PBMCs_pp.h5ad'"
   ]
  },
  {
   "cell_type": "code",
   "execution_count": 3,
   "metadata": {},
   "outputs": [],
   "source": [
    "%%R\n",
    "# Load all the R libraries we will be using in the notebook\n",
    "library(scran)"
   ]
  },
  {
   "cell_type": "markdown",
   "metadata": {},
   "source": [
    "## Load \n",
    "Here we load the pre-processed datasets (which has been annotated), and the raw matrices (which won't be filtered on the gene level). "
   ]
  },
  {
   "cell_type": "markdown",
   "metadata": {},
   "source": [
    "### Raw data"
   ]
  },
  {
   "cell_type": "code",
   "execution_count": 4,
   "metadata": {},
   "outputs": [
    {
     "name": "stdout",
     "output_type": "stream",
     "text": [
      "reading ../Munich/datasets/human/Freytag_PBMC/GSM3169075_filtered_gene_bc_matrices_h5.h5\n"
     ]
    },
    {
     "name": "stderr",
     "output_type": "stream",
     "text": [
      "Variable names are not unique. To make them unique, call `.var_names_make_unique`.\n"
     ]
    },
    {
     "name": "stdout",
     "output_type": "stream",
     "text": [
      " (0:00:00)\n"
     ]
    },
    {
     "data": {
      "text/plain": [
       "(3372, 58302)"
      ]
     },
     "execution_count": 4,
     "metadata": {},
     "output_type": "execute_result"
    }
   ],
   "source": [
    "# Set up data loading\n",
    "file = '../Munich/datasets/human/Freytag_PBMC/GSM3169075_filtered_gene_bc_matrices_h5.h5'\n",
    "adata_raw = sc.read_10x_h5(filename=file)\n",
    "adata_raw.X = adata_raw.X.toarray()\n",
    "adata_raw.var_names_make_unique()\n",
    "adata_raw.shape"
   ]
  },
  {
   "cell_type": "code",
   "execution_count": 5,
   "metadata": {},
   "outputs": [
    {
     "data": {
      "text/html": [
       "<div>\n",
       "<style scoped>\n",
       "    .dataframe tbody tr th:only-of-type {\n",
       "        vertical-align: middle;\n",
       "    }\n",
       "\n",
       "    .dataframe tbody tr th {\n",
       "        vertical-align: top;\n",
       "    }\n",
       "\n",
       "    .dataframe thead th {\n",
       "        text-align: right;\n",
       "    }\n",
       "</style>\n",
       "<table border=\"1\" class=\"dataframe\">\n",
       "  <thead>\n",
       "    <tr style=\"text-align: right;\">\n",
       "      <th></th>\n",
       "    </tr>\n",
       "  </thead>\n",
       "  <tbody>\n",
       "    <tr>\n",
       "      <th>AAACCTGAGCGTGTCC-1</th>\n",
       "    </tr>\n",
       "    <tr>\n",
       "      <th>AAACCTGAGTACACCT-1</th>\n",
       "    </tr>\n",
       "    <tr>\n",
       "      <th>AAACCTGAGTGTACGG-1</th>\n",
       "    </tr>\n",
       "    <tr>\n",
       "      <th>AAACCTGCATCACAAC-1</th>\n",
       "    </tr>\n",
       "    <tr>\n",
       "      <th>AAACCTGGTAAATGAC-1</th>\n",
       "    </tr>\n",
       "  </tbody>\n",
       "</table>\n",
       "</div>"
      ],
      "text/plain": [
       "Empty DataFrame\n",
       "Columns: []\n",
       "Index: [AAACCTGAGCGTGTCC-1, AAACCTGAGTACACCT-1, AAACCTGAGTGTACGG-1, AAACCTGCATCACAAC-1, AAACCTGGTAAATGAC-1]"
      ]
     },
     "execution_count": 5,
     "metadata": {},
     "output_type": "execute_result"
    }
   ],
   "source": [
    "adata_raw.obs.head()"
   ]
  },
  {
   "cell_type": "code",
   "execution_count": 6,
   "metadata": {},
   "outputs": [
    {
     "data": {
      "text/html": [
       "<div>\n",
       "<style scoped>\n",
       "    .dataframe tbody tr th:only-of-type {\n",
       "        vertical-align: middle;\n",
       "    }\n",
       "\n",
       "    .dataframe tbody tr th {\n",
       "        vertical-align: top;\n",
       "    }\n",
       "\n",
       "    .dataframe thead th {\n",
       "        text-align: right;\n",
       "    }\n",
       "</style>\n",
       "<table border=\"1\" class=\"dataframe\">\n",
       "  <thead>\n",
       "    <tr style=\"text-align: right;\">\n",
       "      <th></th>\n",
       "      <th>gene_ids</th>\n",
       "    </tr>\n",
       "  </thead>\n",
       "  <tbody>\n",
       "    <tr>\n",
       "      <th>DDX11L1</th>\n",
       "      <td>ENSG00000223972</td>\n",
       "    </tr>\n",
       "    <tr>\n",
       "      <th>WASH7P</th>\n",
       "      <td>ENSG00000227232</td>\n",
       "    </tr>\n",
       "    <tr>\n",
       "      <th>MIR6859-1</th>\n",
       "      <td>ENSG00000278267</td>\n",
       "    </tr>\n",
       "    <tr>\n",
       "      <th>MIR1302-2HG</th>\n",
       "      <td>ENSG00000243485</td>\n",
       "    </tr>\n",
       "    <tr>\n",
       "      <th>MIR1302-2</th>\n",
       "      <td>ENSG00000284332</td>\n",
       "    </tr>\n",
       "  </tbody>\n",
       "</table>\n",
       "</div>"
      ],
      "text/plain": [
       "                    gene_ids\n",
       "DDX11L1      ENSG00000223972\n",
       "WASH7P       ENSG00000227232\n",
       "MIR6859-1    ENSG00000278267\n",
       "MIR1302-2HG  ENSG00000243485\n",
       "MIR1302-2    ENSG00000284332"
      ]
     },
     "execution_count": 6,
     "metadata": {},
     "output_type": "execute_result"
    }
   ],
   "source": [
    "adata_raw.var.head()"
   ]
  },
  {
   "cell_type": "code",
   "execution_count": 7,
   "metadata": {},
   "outputs": [
    {
     "data": {
      "text/html": [
       "<div>\n",
       "<style scoped>\n",
       "    .dataframe tbody tr th:only-of-type {\n",
       "        vertical-align: middle;\n",
       "    }\n",
       "\n",
       "    .dataframe tbody tr th {\n",
       "        vertical-align: top;\n",
       "    }\n",
       "\n",
       "    .dataframe thead th {\n",
       "        text-align: right;\n",
       "    }\n",
       "</style>\n",
       "<table border=\"1\" class=\"dataframe\">\n",
       "  <thead>\n",
       "    <tr style=\"text-align: right;\">\n",
       "      <th></th>\n",
       "      <th>batch</th>\n",
       "      <th>study</th>\n",
       "      <th>chemistry</th>\n",
       "      <th>tissue</th>\n",
       "      <th>species</th>\n",
       "      <th>data_type</th>\n",
       "    </tr>\n",
       "    <tr>\n",
       "      <th>barcode</th>\n",
       "      <th></th>\n",
       "      <th></th>\n",
       "      <th></th>\n",
       "      <th></th>\n",
       "      <th></th>\n",
       "      <th></th>\n",
       "    </tr>\n",
       "  </thead>\n",
       "  <tbody>\n",
       "    <tr>\n",
       "      <th>AAACCTGAGCGTGTCC-1</th>\n",
       "      <td>Freytag</td>\n",
       "      <td>Freytag</td>\n",
       "      <td>v2_10X</td>\n",
       "      <td>PBMCs</td>\n",
       "      <td>Human</td>\n",
       "      <td>UMI</td>\n",
       "    </tr>\n",
       "    <tr>\n",
       "      <th>AAACCTGAGTACACCT-1</th>\n",
       "      <td>Freytag</td>\n",
       "      <td>Freytag</td>\n",
       "      <td>v2_10X</td>\n",
       "      <td>PBMCs</td>\n",
       "      <td>Human</td>\n",
       "      <td>UMI</td>\n",
       "    </tr>\n",
       "    <tr>\n",
       "      <th>AAACCTGAGTGTACGG-1</th>\n",
       "      <td>Freytag</td>\n",
       "      <td>Freytag</td>\n",
       "      <td>v2_10X</td>\n",
       "      <td>PBMCs</td>\n",
       "      <td>Human</td>\n",
       "      <td>UMI</td>\n",
       "    </tr>\n",
       "    <tr>\n",
       "      <th>AAACCTGCATCACAAC-1</th>\n",
       "      <td>Freytag</td>\n",
       "      <td>Freytag</td>\n",
       "      <td>v2_10X</td>\n",
       "      <td>PBMCs</td>\n",
       "      <td>Human</td>\n",
       "      <td>UMI</td>\n",
       "    </tr>\n",
       "    <tr>\n",
       "      <th>AAACCTGGTAAATGAC-1</th>\n",
       "      <td>Freytag</td>\n",
       "      <td>Freytag</td>\n",
       "      <td>v2_10X</td>\n",
       "      <td>PBMCs</td>\n",
       "      <td>Human</td>\n",
       "      <td>UMI</td>\n",
       "    </tr>\n",
       "  </tbody>\n",
       "</table>\n",
       "</div>"
      ],
      "text/plain": [
       "                      batch    study chemistry tissue species data_type\n",
       "barcode                                                                \n",
       "AAACCTGAGCGTGTCC-1  Freytag  Freytag    v2_10X  PBMCs   Human       UMI\n",
       "AAACCTGAGTACACCT-1  Freytag  Freytag    v2_10X  PBMCs   Human       UMI\n",
       "AAACCTGAGTGTACGG-1  Freytag  Freytag    v2_10X  PBMCs   Human       UMI\n",
       "AAACCTGCATCACAAC-1  Freytag  Freytag    v2_10X  PBMCs   Human       UMI\n",
       "AAACCTGGTAAATGAC-1  Freytag  Freytag    v2_10X  PBMCs   Human       UMI"
      ]
     },
     "execution_count": 7,
     "metadata": {},
     "output_type": "execute_result"
    }
   ],
   "source": [
    "#Annotate data\n",
    "adata_raw.obs.index.rename('barcode', inplace=True)\n",
    "\n",
    "adata_raw.obs['batch'] = ['Freytag']*adata_raw.n_obs\n",
    "adata_raw.obs['study'] = ['Freytag']*adata_raw.n_obs\n",
    "adata_raw.obs['chemistry'] = ['v2_10X']*adata_raw.n_obs\n",
    "adata_raw.obs['tissue'] = ['PBMCs']*adata_raw.n_obs\n",
    "adata_raw.obs['species'] = ['Human']*adata_raw.n_obs\n",
    "adata_raw.obs['data_type'] = ['UMI']*adata_raw.n_obs\n",
    "adata_raw.obs.head()"
   ]
  },
  {
   "cell_type": "code",
   "execution_count": 8,
   "metadata": {},
   "outputs": [
    {
     "data": {
      "text/html": [
       "<div>\n",
       "<style scoped>\n",
       "    .dataframe tbody tr th:only-of-type {\n",
       "        vertical-align: middle;\n",
       "    }\n",
       "\n",
       "    .dataframe tbody tr th {\n",
       "        vertical-align: top;\n",
       "    }\n",
       "\n",
       "    .dataframe thead th {\n",
       "        text-align: right;\n",
       "    }\n",
       "</style>\n",
       "<table border=\"1\" class=\"dataframe\">\n",
       "  <thead>\n",
       "    <tr style=\"text-align: right;\">\n",
       "      <th></th>\n",
       "      <th>batch</th>\n",
       "      <th>study</th>\n",
       "      <th>chemistry</th>\n",
       "      <th>tissue</th>\n",
       "      <th>species</th>\n",
       "      <th>data_type</th>\n",
       "    </tr>\n",
       "    <tr>\n",
       "      <th>barcode</th>\n",
       "      <th></th>\n",
       "      <th></th>\n",
       "      <th></th>\n",
       "      <th></th>\n",
       "      <th></th>\n",
       "      <th></th>\n",
       "    </tr>\n",
       "  </thead>\n",
       "  <tbody>\n",
       "    <tr>\n",
       "      <th>AAACCTGAGCGTGTCC-1-Freytag</th>\n",
       "      <td>Freytag</td>\n",
       "      <td>Freytag</td>\n",
       "      <td>v2_10X</td>\n",
       "      <td>PBMCs</td>\n",
       "      <td>Human</td>\n",
       "      <td>UMI</td>\n",
       "    </tr>\n",
       "    <tr>\n",
       "      <th>AAACCTGAGTACACCT-1-Freytag</th>\n",
       "      <td>Freytag</td>\n",
       "      <td>Freytag</td>\n",
       "      <td>v2_10X</td>\n",
       "      <td>PBMCs</td>\n",
       "      <td>Human</td>\n",
       "      <td>UMI</td>\n",
       "    </tr>\n",
       "    <tr>\n",
       "      <th>AAACCTGAGTGTACGG-1-Freytag</th>\n",
       "      <td>Freytag</td>\n",
       "      <td>Freytag</td>\n",
       "      <td>v2_10X</td>\n",
       "      <td>PBMCs</td>\n",
       "      <td>Human</td>\n",
       "      <td>UMI</td>\n",
       "    </tr>\n",
       "    <tr>\n",
       "      <th>AAACCTGCATCACAAC-1-Freytag</th>\n",
       "      <td>Freytag</td>\n",
       "      <td>Freytag</td>\n",
       "      <td>v2_10X</td>\n",
       "      <td>PBMCs</td>\n",
       "      <td>Human</td>\n",
       "      <td>UMI</td>\n",
       "    </tr>\n",
       "    <tr>\n",
       "      <th>AAACCTGGTAAATGAC-1-Freytag</th>\n",
       "      <td>Freytag</td>\n",
       "      <td>Freytag</td>\n",
       "      <td>v2_10X</td>\n",
       "      <td>PBMCs</td>\n",
       "      <td>Human</td>\n",
       "      <td>UMI</td>\n",
       "    </tr>\n",
       "  </tbody>\n",
       "</table>\n",
       "</div>"
      ],
      "text/plain": [
       "                              batch    study chemistry tissue species  \\\n",
       "barcode                                                                 \n",
       "AAACCTGAGCGTGTCC-1-Freytag  Freytag  Freytag    v2_10X  PBMCs   Human   \n",
       "AAACCTGAGTACACCT-1-Freytag  Freytag  Freytag    v2_10X  PBMCs   Human   \n",
       "AAACCTGAGTGTACGG-1-Freytag  Freytag  Freytag    v2_10X  PBMCs   Human   \n",
       "AAACCTGCATCACAAC-1-Freytag  Freytag  Freytag    v2_10X  PBMCs   Human   \n",
       "AAACCTGGTAAATGAC-1-Freytag  Freytag  Freytag    v2_10X  PBMCs   Human   \n",
       "\n",
       "                           data_type  \n",
       "barcode                               \n",
       "AAACCTGAGCGTGTCC-1-Freytag       UMI  \n",
       "AAACCTGAGTACACCT-1-Freytag       UMI  \n",
       "AAACCTGAGTGTACGG-1-Freytag       UMI  \n",
       "AAACCTGCATCACAAC-1-Freytag       UMI  \n",
       "AAACCTGGTAAATGAC-1-Freytag       UMI  "
      ]
     },
     "execution_count": 8,
     "metadata": {},
     "output_type": "execute_result"
    }
   ],
   "source": [
    "adata_obs = adata_raw.obs.reset_index()\n",
    "adata_obs['barcode'] = adata_obs['barcode']+['-Freytag']*adata_raw.n_obs\n",
    "adata_obs.set_index('barcode', inplace = True)\n",
    "adata_raw.obs = adata_obs\n",
    "adata_raw.obs.head()"
   ]
  },
  {
   "cell_type": "markdown",
   "metadata": {},
   "source": [
    "### Pre-processed data"
   ]
  },
  {
   "cell_type": "code",
   "execution_count": 9,
   "metadata": {},
   "outputs": [
    {
     "data": {
      "text/plain": [
       "(3347, 12653)"
      ]
     },
     "execution_count": 9,
     "metadata": {},
     "output_type": "execute_result"
    }
   ],
   "source": [
    "file_paths = '../PBMC_human/write/Freytag_pbmcs.h5ad'\n",
    "adata_pp = sc.read(file_paths, cache=True)\n",
    "adata_pp.shape"
   ]
  },
  {
   "cell_type": "code",
   "execution_count": 10,
   "metadata": {},
   "outputs": [
    {
     "data": {
      "text/html": [
       "<div>\n",
       "<style scoped>\n",
       "    .dataframe tbody tr th:only-of-type {\n",
       "        vertical-align: middle;\n",
       "    }\n",
       "\n",
       "    .dataframe tbody tr th {\n",
       "        vertical-align: top;\n",
       "    }\n",
       "\n",
       "    .dataframe thead th {\n",
       "        text-align: right;\n",
       "    }\n",
       "</style>\n",
       "<table border=\"1\" class=\"dataframe\">\n",
       "  <thead>\n",
       "    <tr style=\"text-align: right;\">\n",
       "      <th></th>\n",
       "      <th>n_counts</th>\n",
       "      <th>log_counts</th>\n",
       "      <th>n_genes</th>\n",
       "      <th>mt_frac</th>\n",
       "      <th>size_factors</th>\n",
       "      <th>louvain_r1</th>\n",
       "      <th>louvain1_sub_0</th>\n",
       "      <th>louvain1_sub_0_4</th>\n",
       "      <th>louvain1_sub_0_4_5</th>\n",
       "      <th>final_annotation</th>\n",
       "    </tr>\n",
       "    <tr>\n",
       "      <th>index</th>\n",
       "      <th></th>\n",
       "      <th></th>\n",
       "      <th></th>\n",
       "      <th></th>\n",
       "      <th></th>\n",
       "      <th></th>\n",
       "      <th></th>\n",
       "      <th></th>\n",
       "      <th></th>\n",
       "      <th></th>\n",
       "    </tr>\n",
       "  </thead>\n",
       "  <tbody>\n",
       "    <tr>\n",
       "      <th>AAACCTGAGCGTGTCC-1</th>\n",
       "      <td>5711.0</td>\n",
       "      <td>8.650149</td>\n",
       "      <td>1535</td>\n",
       "      <td>0.051305</td>\n",
       "      <td>1.416843</td>\n",
       "      <td>0</td>\n",
       "      <td>0,1</td>\n",
       "      <td>0,1</td>\n",
       "      <td>0,1</td>\n",
       "      <td>CD8+ T cells</td>\n",
       "    </tr>\n",
       "    <tr>\n",
       "      <th>AAACCTGAGTACACCT-1</th>\n",
       "      <td>2755.0</td>\n",
       "      <td>7.921173</td>\n",
       "      <td>1003</td>\n",
       "      <td>0.022868</td>\n",
       "      <td>0.730255</td>\n",
       "      <td>1</td>\n",
       "      <td>1</td>\n",
       "      <td>1</td>\n",
       "      <td>1</td>\n",
       "      <td>CD4+ T cells</td>\n",
       "    </tr>\n",
       "    <tr>\n",
       "      <th>AAACCTGAGTGTACGG-1</th>\n",
       "      <td>2705.0</td>\n",
       "      <td>7.902857</td>\n",
       "      <td>1040</td>\n",
       "      <td>0.048059</td>\n",
       "      <td>0.872122</td>\n",
       "      <td>6</td>\n",
       "      <td>6</td>\n",
       "      <td>6</td>\n",
       "      <td>6</td>\n",
       "      <td>NKT cells</td>\n",
       "    </tr>\n",
       "    <tr>\n",
       "      <th>AAACCTGCATCACAAC-1</th>\n",
       "      <td>4474.0</td>\n",
       "      <td>8.406038</td>\n",
       "      <td>1308</td>\n",
       "      <td>0.027939</td>\n",
       "      <td>1.095190</td>\n",
       "      <td>1</td>\n",
       "      <td>1</td>\n",
       "      <td>1</td>\n",
       "      <td>1</td>\n",
       "      <td>CD4+ T cells</td>\n",
       "    </tr>\n",
       "    <tr>\n",
       "      <th>AAACCTGGTAAATGAC-1</th>\n",
       "      <td>4372.0</td>\n",
       "      <td>8.382976</td>\n",
       "      <td>1433</td>\n",
       "      <td>0.026304</td>\n",
       "      <td>1.207505</td>\n",
       "      <td>1</td>\n",
       "      <td>1</td>\n",
       "      <td>1</td>\n",
       "      <td>1</td>\n",
       "      <td>CD4+ T cells</td>\n",
       "    </tr>\n",
       "  </tbody>\n",
       "</table>\n",
       "</div>"
      ],
      "text/plain": [
       "                    n_counts  log_counts  n_genes   mt_frac  size_factors  \\\n",
       "index                                                                       \n",
       "AAACCTGAGCGTGTCC-1    5711.0    8.650149     1535  0.051305      1.416843   \n",
       "AAACCTGAGTACACCT-1    2755.0    7.921173     1003  0.022868      0.730255   \n",
       "AAACCTGAGTGTACGG-1    2705.0    7.902857     1040  0.048059      0.872122   \n",
       "AAACCTGCATCACAAC-1    4474.0    8.406038     1308  0.027939      1.095190   \n",
       "AAACCTGGTAAATGAC-1    4372.0    8.382976     1433  0.026304      1.207505   \n",
       "\n",
       "                   louvain_r1 louvain1_sub_0 louvain1_sub_0_4  \\\n",
       "index                                                           \n",
       "AAACCTGAGCGTGTCC-1          0            0,1              0,1   \n",
       "AAACCTGAGTACACCT-1          1              1                1   \n",
       "AAACCTGAGTGTACGG-1          6              6                6   \n",
       "AAACCTGCATCACAAC-1          1              1                1   \n",
       "AAACCTGGTAAATGAC-1          1              1                1   \n",
       "\n",
       "                   louvain1_sub_0_4_5 final_annotation  \n",
       "index                                                   \n",
       "AAACCTGAGCGTGTCC-1                0,1     CD8+ T cells  \n",
       "AAACCTGAGTACACCT-1                  1     CD4+ T cells  \n",
       "AAACCTGAGTGTACGG-1                  6        NKT cells  \n",
       "AAACCTGCATCACAAC-1                  1     CD4+ T cells  \n",
       "AAACCTGGTAAATGAC-1                  1     CD4+ T cells  "
      ]
     },
     "execution_count": 10,
     "metadata": {},
     "output_type": "execute_result"
    }
   ],
   "source": [
    "adata_pp.obs.head()"
   ]
  },
  {
   "cell_type": "code",
   "execution_count": 11,
   "metadata": {},
   "outputs": [
    {
     "data": {
      "text/html": [
       "<div>\n",
       "<style scoped>\n",
       "    .dataframe tbody tr th:only-of-type {\n",
       "        vertical-align: middle;\n",
       "    }\n",
       "\n",
       "    .dataframe tbody tr th {\n",
       "        vertical-align: top;\n",
       "    }\n",
       "\n",
       "    .dataframe thead th {\n",
       "        text-align: right;\n",
       "    }\n",
       "</style>\n",
       "<table border=\"1\" class=\"dataframe\">\n",
       "  <thead>\n",
       "    <tr style=\"text-align: right;\">\n",
       "      <th></th>\n",
       "      <th>final_annotation</th>\n",
       "      <th>n_counts</th>\n",
       "      <th>n_genes</th>\n",
       "      <th>mt_frac</th>\n",
       "    </tr>\n",
       "    <tr>\n",
       "      <th>barcode</th>\n",
       "      <th></th>\n",
       "      <th></th>\n",
       "      <th></th>\n",
       "      <th></th>\n",
       "    </tr>\n",
       "  </thead>\n",
       "  <tbody>\n",
       "    <tr>\n",
       "      <th>AAACCTGAGCGTGTCC-1-Freytag</th>\n",
       "      <td>CD8+ T cells</td>\n",
       "      <td>5711.0</td>\n",
       "      <td>1535</td>\n",
       "      <td>0.051305</td>\n",
       "    </tr>\n",
       "    <tr>\n",
       "      <th>AAACCTGAGTACACCT-1-Freytag</th>\n",
       "      <td>CD4+ T cells</td>\n",
       "      <td>2755.0</td>\n",
       "      <td>1003</td>\n",
       "      <td>0.022868</td>\n",
       "    </tr>\n",
       "    <tr>\n",
       "      <th>AAACCTGAGTGTACGG-1-Freytag</th>\n",
       "      <td>NKT cells</td>\n",
       "      <td>2705.0</td>\n",
       "      <td>1040</td>\n",
       "      <td>0.048059</td>\n",
       "    </tr>\n",
       "    <tr>\n",
       "      <th>AAACCTGCATCACAAC-1-Freytag</th>\n",
       "      <td>CD4+ T cells</td>\n",
       "      <td>4474.0</td>\n",
       "      <td>1308</td>\n",
       "      <td>0.027939</td>\n",
       "    </tr>\n",
       "    <tr>\n",
       "      <th>AAACCTGGTAAATGAC-1-Freytag</th>\n",
       "      <td>CD4+ T cells</td>\n",
       "      <td>4372.0</td>\n",
       "      <td>1433</td>\n",
       "      <td>0.026304</td>\n",
       "    </tr>\n",
       "  </tbody>\n",
       "</table>\n",
       "</div>"
      ],
      "text/plain": [
       "                           final_annotation  n_counts  n_genes   mt_frac\n",
       "barcode                                                                 \n",
       "AAACCTGAGCGTGTCC-1-Freytag     CD8+ T cells    5711.0     1535  0.051305\n",
       "AAACCTGAGTACACCT-1-Freytag     CD4+ T cells    2755.0     1003  0.022868\n",
       "AAACCTGAGTGTACGG-1-Freytag        NKT cells    2705.0     1040  0.048059\n",
       "AAACCTGCATCACAAC-1-Freytag     CD4+ T cells    4474.0     1308  0.027939\n",
       "AAACCTGGTAAATGAC-1-Freytag     CD4+ T cells    4372.0     1433  0.026304"
      ]
     },
     "execution_count": 11,
     "metadata": {},
     "output_type": "execute_result"
    }
   ],
   "source": [
    "adata_obs = adata_pp.obs.reset_index()\n",
    "adata_obs = adata_obs[['index', 'final_annotation', 'n_counts', 'n_genes', 'mt_frac']].rename(columns = {'index':'barcode'})\n",
    "adata_obs['barcode'] = adata_obs['barcode']+['-Freytag']*adata_pp.n_obs\n",
    "adata_obs.set_index('barcode', inplace = True)\n",
    "adata_pp.obs = adata_obs\n",
    "adata_pp.obs.head()"
   ]
  },
  {
   "cell_type": "code",
   "execution_count": 12,
   "metadata": {},
   "outputs": [
    {
     "data": {
      "text/html": [
       "<div>\n",
       "<style scoped>\n",
       "    .dataframe tbody tr th:only-of-type {\n",
       "        vertical-align: middle;\n",
       "    }\n",
       "\n",
       "    .dataframe tbody tr th {\n",
       "        vertical-align: top;\n",
       "    }\n",
       "\n",
       "    .dataframe thead th {\n",
       "        text-align: right;\n",
       "    }\n",
       "</style>\n",
       "<table border=\"1\" class=\"dataframe\">\n",
       "  <thead>\n",
       "    <tr style=\"text-align: right;\">\n",
       "      <th></th>\n",
       "      <th>batch</th>\n",
       "      <th>study</th>\n",
       "      <th>chemistry</th>\n",
       "      <th>tissue</th>\n",
       "      <th>species</th>\n",
       "      <th>data_type</th>\n",
       "      <th>final_annotation</th>\n",
       "      <th>n_counts</th>\n",
       "      <th>n_genes</th>\n",
       "      <th>mt_frac</th>\n",
       "    </tr>\n",
       "    <tr>\n",
       "      <th>barcode</th>\n",
       "      <th></th>\n",
       "      <th></th>\n",
       "      <th></th>\n",
       "      <th></th>\n",
       "      <th></th>\n",
       "      <th></th>\n",
       "      <th></th>\n",
       "      <th></th>\n",
       "      <th></th>\n",
       "      <th></th>\n",
       "    </tr>\n",
       "  </thead>\n",
       "  <tbody>\n",
       "    <tr>\n",
       "      <th>AAACCTGAGCGTGTCC-1-Freytag</th>\n",
       "      <td>Freytag</td>\n",
       "      <td>Freytag</td>\n",
       "      <td>v2_10X</td>\n",
       "      <td>PBMCs</td>\n",
       "      <td>Human</td>\n",
       "      <td>UMI</td>\n",
       "      <td>CD8+ T cells</td>\n",
       "      <td>5711.0</td>\n",
       "      <td>1535.0</td>\n",
       "      <td>0.051305</td>\n",
       "    </tr>\n",
       "    <tr>\n",
       "      <th>AAACCTGAGTACACCT-1-Freytag</th>\n",
       "      <td>Freytag</td>\n",
       "      <td>Freytag</td>\n",
       "      <td>v2_10X</td>\n",
       "      <td>PBMCs</td>\n",
       "      <td>Human</td>\n",
       "      <td>UMI</td>\n",
       "      <td>CD4+ T cells</td>\n",
       "      <td>2755.0</td>\n",
       "      <td>1003.0</td>\n",
       "      <td>0.022868</td>\n",
       "    </tr>\n",
       "    <tr>\n",
       "      <th>AAACCTGAGTGTACGG-1-Freytag</th>\n",
       "      <td>Freytag</td>\n",
       "      <td>Freytag</td>\n",
       "      <td>v2_10X</td>\n",
       "      <td>PBMCs</td>\n",
       "      <td>Human</td>\n",
       "      <td>UMI</td>\n",
       "      <td>NKT cells</td>\n",
       "      <td>2705.0</td>\n",
       "      <td>1040.0</td>\n",
       "      <td>0.048059</td>\n",
       "    </tr>\n",
       "    <tr>\n",
       "      <th>AAACCTGCATCACAAC-1-Freytag</th>\n",
       "      <td>Freytag</td>\n",
       "      <td>Freytag</td>\n",
       "      <td>v2_10X</td>\n",
       "      <td>PBMCs</td>\n",
       "      <td>Human</td>\n",
       "      <td>UMI</td>\n",
       "      <td>CD4+ T cells</td>\n",
       "      <td>4474.0</td>\n",
       "      <td>1308.0</td>\n",
       "      <td>0.027939</td>\n",
       "    </tr>\n",
       "    <tr>\n",
       "      <th>AAACCTGGTAAATGAC-1-Freytag</th>\n",
       "      <td>Freytag</td>\n",
       "      <td>Freytag</td>\n",
       "      <td>v2_10X</td>\n",
       "      <td>PBMCs</td>\n",
       "      <td>Human</td>\n",
       "      <td>UMI</td>\n",
       "      <td>CD4+ T cells</td>\n",
       "      <td>4372.0</td>\n",
       "      <td>1433.0</td>\n",
       "      <td>0.026304</td>\n",
       "    </tr>\n",
       "  </tbody>\n",
       "</table>\n",
       "</div>"
      ],
      "text/plain": [
       "                              batch    study chemistry tissue species  \\\n",
       "barcode                                                                 \n",
       "AAACCTGAGCGTGTCC-1-Freytag  Freytag  Freytag    v2_10X  PBMCs   Human   \n",
       "AAACCTGAGTACACCT-1-Freytag  Freytag  Freytag    v2_10X  PBMCs   Human   \n",
       "AAACCTGAGTGTACGG-1-Freytag  Freytag  Freytag    v2_10X  PBMCs   Human   \n",
       "AAACCTGCATCACAAC-1-Freytag  Freytag  Freytag    v2_10X  PBMCs   Human   \n",
       "AAACCTGGTAAATGAC-1-Freytag  Freytag  Freytag    v2_10X  PBMCs   Human   \n",
       "\n",
       "                           data_type final_annotation  n_counts  n_genes  \\\n",
       "barcode                                                                    \n",
       "AAACCTGAGCGTGTCC-1-Freytag       UMI     CD8+ T cells    5711.0   1535.0   \n",
       "AAACCTGAGTACACCT-1-Freytag       UMI     CD4+ T cells    2755.0   1003.0   \n",
       "AAACCTGAGTGTACGG-1-Freytag       UMI        NKT cells    2705.0   1040.0   \n",
       "AAACCTGCATCACAAC-1-Freytag       UMI     CD4+ T cells    4474.0   1308.0   \n",
       "AAACCTGGTAAATGAC-1-Freytag       UMI     CD4+ T cells    4372.0   1433.0   \n",
       "\n",
       "                             mt_frac  \n",
       "barcode                               \n",
       "AAACCTGAGCGTGTCC-1-Freytag  0.051305  \n",
       "AAACCTGAGTACACCT-1-Freytag  0.022868  \n",
       "AAACCTGAGTGTACGG-1-Freytag  0.048059  \n",
       "AAACCTGCATCACAAC-1-Freytag  0.027939  \n",
       "AAACCTGGTAAATGAC-1-Freytag  0.026304  "
      ]
     },
     "execution_count": 12,
     "metadata": {},
     "output_type": "execute_result"
    }
   ],
   "source": [
    "# Restrict to cells that passed QC and were annotated\n",
    "adata_obs_raw = adata_raw.obs.reset_index()\n",
    "adata_obs_pp = adata_pp.obs.reset_index()\n",
    "adata_merged = adata_obs_raw.merge(adata_obs_pp, on='barcode', how='left')\n",
    "adata_merged.set_index('barcode', inplace = True)\n",
    "adata_raw.obs = adata_merged\n",
    "adata_raw.obs.head()"
   ]
  },
  {
   "cell_type": "code",
   "execution_count": 13,
   "metadata": {
    "scrolled": true
   },
   "outputs": [
    {
     "data": {
      "text/plain": [
       "(3347, 58302)"
      ]
     },
     "execution_count": 13,
     "metadata": {},
     "output_type": "execute_result"
    }
   ],
   "source": [
    "adata_raw = adata_raw[~pd.isnull(adata_raw.obs['final_annotation'])]\n",
    "adata_raw.shape"
   ]
  },
  {
   "cell_type": "markdown",
   "metadata": {},
   "source": [
    "### Normalization"
   ]
  },
  {
   "cell_type": "code",
   "execution_count": 14,
   "metadata": {},
   "outputs": [
    {
     "name": "stdout",
     "output_type": "stream",
     "text": [
      "Total number of genes: 58302\n",
      "filtered out 33726 genes that are detectedin less than 1 cells\n"
     ]
    },
    {
     "name": "stderr",
     "output_type": "stream",
     "text": [
      "Trying to set attribute `.var` of view, making a copy.\n",
      "Variable names are not unique. To make them unique, call `.var_names_make_unique`.\n",
      "Variable names are not unique. To make them unique, call `.var_names_make_unique`.\n"
     ]
    },
    {
     "name": "stdout",
     "output_type": "stream",
     "text": [
      "Number of genes after cell filter: 24576\n"
     ]
    }
   ],
   "source": [
    "# Exclude genes that are = 0 in all cells\n",
    "#Filter genes:\n",
    "print('Total number of genes: {:d}'.format(adata_raw.n_vars))\n",
    "\n",
    "# Min 20 cells - filters out 0 count genes\n",
    "sc.pp.filter_genes(adata_raw, min_cells=1)\n",
    "print('Number of genes after cell filter: {:d}'.format(adata_raw.n_vars))"
   ]
  },
  {
   "cell_type": "code",
   "execution_count": 15,
   "metadata": {},
   "outputs": [
    {
     "name": "stdout",
     "output_type": "stream",
     "text": [
      "normalizing by total count per cell\n",
      "    finished (0:00:00): normalized adata.X and added    'n_counts', counts per cell before normalization (adata.obs)\n",
      "computing PCA with n_comps = 15\n",
      "    finished (0:00:03)\n",
      "computing neighbors\n",
      "    using 'X_pca' with n_pcs = 15\n",
      "    finished: added to `.uns['neighbors']`\n",
      "    'distances', distances for each pair of neighbors\n",
      "    'connectivities', weighted adjacency matrix (0:00:02)\n",
      "running Louvain clustering\n",
      "    using the \"louvain\" package of Traag (2017)\n",
      "    finished: found 8 clusters and added\n",
      "    'groups', the cluster labels (adata.obs, categorical) (0:00:00)\n"
     ]
    }
   ],
   "source": [
    "#Perform a clustering for scran normalization in clusters\n",
    "adata_pp = adata_raw.copy()\n",
    "sc.pp.normalize_per_cell(adata_pp, counts_per_cell_after=1e6)\n",
    "sc.pp.log1p(adata_pp)\n",
    "sc.pp.pca(adata_pp, n_comps=15, svd_solver='arpack')\n",
    "sc.pp.neighbors(adata_pp)\n",
    "sc.tl.louvain(adata_pp, key_added='groups', resolution=0.5)"
   ]
  },
  {
   "cell_type": "code",
   "execution_count": 16,
   "metadata": {},
   "outputs": [
    {
     "data": {
      "text/plain": [
       "0    805\n",
       "1    694\n",
       "2    488\n",
       "3    424\n",
       "4    368\n",
       "5    321\n",
       "6    231\n",
       "7     16\n",
       "Name: groups, dtype: int64"
      ]
     },
     "execution_count": 16,
     "metadata": {},
     "output_type": "execute_result"
    }
   ],
   "source": [
    "# Check if the minimum number of cells per cluster is < 21:in that case, sizes will be also passed as input to the normalization\n",
    "adata_pp.obs['groups'].value_counts()"
   ]
  },
  {
   "cell_type": "code",
   "execution_count": 17,
   "metadata": {},
   "outputs": [],
   "source": [
    "#Preprocess variables for scran normalization\n",
    "input_groups = adata_pp.obs['groups']\n",
    "data_mat = adata_raw.X.T\n",
    "sizes = input_groups.value_counts()"
   ]
  },
  {
   "cell_type": "code",
   "execution_count": 18,
   "metadata": {},
   "outputs": [],
   "source": [
    "%%R -i data_mat -i input_groups -i sizes -o size_factors\n",
    "\n",
    "size_factors = computeSumFactors(data_mat, sizes = sizes, clusters=input_groups, min.mean=0.1)"
   ]
  },
  {
   "cell_type": "code",
   "execution_count": 19,
   "metadata": {},
   "outputs": [],
   "source": [
    "#Delete adata_pp\n",
    "del adata_pp"
   ]
  },
  {
   "cell_type": "code",
   "execution_count": 20,
   "metadata": {},
   "outputs": [
    {
     "name": "stderr",
     "output_type": "stream",
     "text": [
      "... storing 'batch' as categorical\n",
      "... storing 'study' as categorical\n",
      "... storing 'chemistry' as categorical\n",
      "... storing 'tissue' as categorical\n",
      "... storing 'species' as categorical\n",
      "... storing 'data_type' as categorical\n"
     ]
    },
    {
     "data": {
      "image/png": "[encoded data removed]",
      "text/plain": [
       "<Figure size 671.674x576 with 1 Axes>"
      ]
     },
     "metadata": {
      "needs_background": "light"
     },
     "output_type": "display_data"
    },
    {
     "data": {
      "image/png": "[encoded data removed]",
      "text/plain": [
       "<Figure size 671.674x576 with 1 Axes>"
      ]
     },
     "metadata": {
      "needs_background": "light"
     },
     "output_type": "display_data"
    },
    {
     "data": {
      "image/png": "[encoded data removed]",
      "text/plain": [
       "<Figure size 576x576 with 1 Axes>"
      ]
     },
     "metadata": {
      "needs_background": "light"
     },
     "output_type": "display_data"
    }
   ],
   "source": [
    "# Visualize the estimated size factors\n",
    "adata_raw.obs['size_factors'] = size_factors\n",
    "\n",
    "sc.pl.scatter(adata_raw, 'size_factors', 'n_counts')\n",
    "sc.pl.scatter(adata_raw, 'size_factors', 'n_genes')\n",
    "\n",
    "sb.distplot(size_factors, bins=50, kde=False)\n",
    "plt.show()"
   ]
  },
  {
   "cell_type": "code",
   "execution_count": 21,
   "metadata": {},
   "outputs": [],
   "source": [
    "#Keep the count data in a counts layer\n",
    "adata_raw.layers[\"counts\"] = adata_raw.X.copy()"
   ]
  },
  {
   "cell_type": "code",
   "execution_count": 22,
   "metadata": {},
   "outputs": [],
   "source": [
    "#Normalize adata \n",
    "adata_raw.X /= adata_raw.obs['size_factors'].values[:,None]\n",
    "sc.pp.log1p(adata_raw)"
   ]
  },
  {
   "cell_type": "code",
   "execution_count": 23,
   "metadata": {},
   "outputs": [],
   "source": [
    "# Save final merged object\n",
    "adata_raw.write(results_file)"
   ]
  }
 ],
 "metadata": {
  "kernelspec": {
   "display_name": "Python 3",
   "language": "python",
   "name": "python3"
  },
  "language_info": {
   "codemirror_mode": {
    "name": "ipython",
    "version": 3
   },
   "file_extension": ".py",
   "mimetype": "text/x-python",
   "name": "python",
   "nbconvert_exporter": "python",
   "pygments_lexer": "ipython3",
   "version": "3.7.3"
  }
 },
 "nbformat": 4,
 "nbformat_minor": 2
}
