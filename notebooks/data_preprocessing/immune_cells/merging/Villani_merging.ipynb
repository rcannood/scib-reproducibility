{
 "cells": [
  {
   "cell_type": "markdown",
   "metadata": {},
   "source": [
    "# Human PBMCs - Villani et al. dataset "
   ]
  },
  {
   "cell_type": "code",
   "execution_count": 1,
   "metadata": {},
   "outputs": [],
   "source": [
    "import scanpy as sc\n",
    "import numpy as np\n",
    "import scipy as sp\n",
    "import pandas as pd\n",
    "import matplotlib.pyplot as plt\n",
    "from matplotlib import rcParams\n",
    "from matplotlib import colors\n",
    "import seaborn as sb\n",
    "import glob\n",
    "\n",
    "import rpy2.rinterface_lib.callbacks\n",
    "import logging\n",
    "\n",
    "from rpy2.robjects import pandas2ri\n",
    "import anndata2ri"
   ]
  },
  {
   "cell_type": "code",
   "execution_count": 2,
   "metadata": {},
   "outputs": [
    {
     "name": "stdout",
     "output_type": "stream",
     "text": [
      "scanpy==1.4.4+40.gbd5f862 anndata==0.6.22.post1 umap==0.3.9 numpy==1.15.4 scipy==1.3.0 pandas==0.24.2 scikit-learn==0.21.2 statsmodels==0.10.1\n"
     ]
    }
   ],
   "source": [
    "# Ignore R warning messages\n",
    "#Note: this can be commented out to get more verbose R output\n",
    "rpy2.rinterface_lib.callbacks.logger.setLevel(logging.ERROR)\n",
    "\n",
    "# Automatically convert rpy2 outputs to pandas dataframes\n",
    "pandas2ri.activate()\n",
    "anndata2ri.activate()\n",
    "%load_ext rpy2.ipython\n",
    "\n",
    "plt.rcParams['figure.figsize']=(8,8) #rescale figures\n",
    "sc.settings.verbosity = 3\n",
    "#sc.set_figure_params(dpi=200, dpi_save=300)\n",
    "sc.logging.print_versions()\n",
    "\n",
    "results_file = './write/Villani_hum_PBMCs_pp.h5ad'"
   ]
  },
  {
   "cell_type": "code",
   "execution_count": 4,
   "metadata": {},
   "outputs": [],
   "source": [
    "%%R\n",
    "# Load all the R libraries we will be using in the notebook\n",
    "library(scran)"
   ]
  },
  {
   "cell_type": "markdown",
   "metadata": {},
   "source": [
    "## Load \n",
    "Here we load the pre-processed datasets (which has been annotated), and the raw matrices (which won't be filtered on the gene level). "
   ]
  },
  {
   "cell_type": "markdown",
   "metadata": {},
   "source": [
    "### Raw data"
   ]
  },
  {
   "cell_type": "code",
   "execution_count": 3,
   "metadata": {},
   "outputs": [
    {
     "name": "stdout",
     "output_type": "stream",
     "text": [
      "... reading from cache file cache/..-Munich-datasets-human-Villani-GSE94820_raw_expMatrix_DCnMono_discovery_set_submission.h5ad\n"
     ]
    },
    {
     "data": {
      "text/plain": [
       "(1140, 26593)"
      ]
     },
     "execution_count": 3,
     "metadata": {},
     "output_type": "execute_result"
    }
   ],
   "source": [
    "# Set up data loading\n",
    "file = '../Munich/datasets/human/Villani/GSE94820_raw_expMatrix_DCnMono_discovery_set_submission.txt.gz'\n",
    "adata_raw = sc.read(filename=file, cache=True, delimiter='\\t', first_column_names=True)\n",
    "adata_raw = adata_raw.transpose()\n",
    "adata_raw.var_names_make_unique()\n",
    "adata_raw.shape"
   ]
  },
  {
   "cell_type": "code",
   "execution_count": 4,
   "metadata": {},
   "outputs": [
    {
     "data": {
      "text/html": [
       "<div>\n",
       "<style scoped>\n",
       "    .dataframe tbody tr th:only-of-type {\n",
       "        vertical-align: middle;\n",
       "    }\n",
       "\n",
       "    .dataframe tbody tr th {\n",
       "        vertical-align: top;\n",
       "    }\n",
       "\n",
       "    .dataframe thead th {\n",
       "        text-align: right;\n",
       "    }\n",
       "</style>\n",
       "<table border=\"1\" class=\"dataframe\">\n",
       "  <thead>\n",
       "    <tr style=\"text-align: right;\">\n",
       "      <th></th>\n",
       "    </tr>\n",
       "    <tr>\n",
       "      <th>index</th>\n",
       "    </tr>\n",
       "  </thead>\n",
       "  <tbody>\n",
       "    <tr>\n",
       "      <th>CD141_P10_S73</th>\n",
       "    </tr>\n",
       "    <tr>\n",
       "      <th>CD141_P10_S74</th>\n",
       "    </tr>\n",
       "    <tr>\n",
       "      <th>CD141_P10_S75</th>\n",
       "    </tr>\n",
       "    <tr>\n",
       "      <th>CD141_P10_S76</th>\n",
       "    </tr>\n",
       "    <tr>\n",
       "      <th>CD141_P10_S77</th>\n",
       "    </tr>\n",
       "  </tbody>\n",
       "</table>\n",
       "</div>"
      ],
      "text/plain": [
       "Empty DataFrame\n",
       "Columns: []\n",
       "Index: [CD141_P10_S73, CD141_P10_S74, CD141_P10_S75, CD141_P10_S76, CD141_P10_S77]"
      ]
     },
     "execution_count": 4,
     "metadata": {},
     "output_type": "execute_result"
    }
   ],
   "source": [
    "adata_raw.obs.head()"
   ]
  },
  {
   "cell_type": "code",
   "execution_count": 5,
   "metadata": {},
   "outputs": [
    {
     "data": {
      "text/html": [
       "<div>\n",
       "<style scoped>\n",
       "    .dataframe tbody tr th:only-of-type {\n",
       "        vertical-align: middle;\n",
       "    }\n",
       "\n",
       "    .dataframe tbody tr th {\n",
       "        vertical-align: top;\n",
       "    }\n",
       "\n",
       "    .dataframe thead th {\n",
       "        text-align: right;\n",
       "    }\n",
       "</style>\n",
       "<table border=\"1\" class=\"dataframe\">\n",
       "  <thead>\n",
       "    <tr style=\"text-align: right;\">\n",
       "      <th></th>\n",
       "    </tr>\n",
       "    <tr>\n",
       "      <th>index</th>\n",
       "    </tr>\n",
       "  </thead>\n",
       "  <tbody>\n",
       "    <tr>\n",
       "      <th>1/2-SBSRNA4</th>\n",
       "    </tr>\n",
       "    <tr>\n",
       "      <th>5S_RRNA</th>\n",
       "    </tr>\n",
       "    <tr>\n",
       "      <th>5_8S_RRNA</th>\n",
       "    </tr>\n",
       "    <tr>\n",
       "      <th>7SK</th>\n",
       "    </tr>\n",
       "    <tr>\n",
       "      <th>A1BG</th>\n",
       "    </tr>\n",
       "  </tbody>\n",
       "</table>\n",
       "</div>"
      ],
      "text/plain": [
       "Empty DataFrame\n",
       "Columns: []\n",
       "Index: [1/2-SBSRNA4, 5S_RRNA, 5_8S_RRNA, 7SK, A1BG]"
      ]
     },
     "execution_count": 5,
     "metadata": {},
     "output_type": "execute_result"
    }
   ],
   "source": [
    "adata_raw.var.head()"
   ]
  },
  {
   "cell_type": "code",
   "execution_count": 6,
   "metadata": {},
   "outputs": [],
   "source": [
    "adata_raw.var.index.names = ['gene_symbol']"
   ]
  },
  {
   "cell_type": "code",
   "execution_count": 7,
   "metadata": {},
   "outputs": [
    {
     "data": {
      "text/html": [
       "<div>\n",
       "<style scoped>\n",
       "    .dataframe tbody tr th:only-of-type {\n",
       "        vertical-align: middle;\n",
       "    }\n",
       "\n",
       "    .dataframe tbody tr th {\n",
       "        vertical-align: top;\n",
       "    }\n",
       "\n",
       "    .dataframe thead th {\n",
       "        text-align: right;\n",
       "    }\n",
       "</style>\n",
       "<table border=\"1\" class=\"dataframe\">\n",
       "  <thead>\n",
       "    <tr style=\"text-align: right;\">\n",
       "      <th></th>\n",
       "      <th>batch</th>\n",
       "      <th>study</th>\n",
       "      <th>chemistry</th>\n",
       "      <th>tissue</th>\n",
       "      <th>species</th>\n",
       "      <th>data_type</th>\n",
       "    </tr>\n",
       "    <tr>\n",
       "      <th>barcode</th>\n",
       "      <th></th>\n",
       "      <th></th>\n",
       "      <th></th>\n",
       "      <th></th>\n",
       "      <th></th>\n",
       "      <th></th>\n",
       "    </tr>\n",
       "  </thead>\n",
       "  <tbody>\n",
       "    <tr>\n",
       "      <th>CD141_P10_S73</th>\n",
       "      <td>Villani</td>\n",
       "      <td>Villani</td>\n",
       "      <td>smart-seq2</td>\n",
       "      <td>PBMCs</td>\n",
       "      <td>Human</td>\n",
       "      <td>TPM</td>\n",
       "    </tr>\n",
       "    <tr>\n",
       "      <th>CD141_P10_S74</th>\n",
       "      <td>Villani</td>\n",
       "      <td>Villani</td>\n",
       "      <td>smart-seq2</td>\n",
       "      <td>PBMCs</td>\n",
       "      <td>Human</td>\n",
       "      <td>TPM</td>\n",
       "    </tr>\n",
       "    <tr>\n",
       "      <th>CD141_P10_S75</th>\n",
       "      <td>Villani</td>\n",
       "      <td>Villani</td>\n",
       "      <td>smart-seq2</td>\n",
       "      <td>PBMCs</td>\n",
       "      <td>Human</td>\n",
       "      <td>TPM</td>\n",
       "    </tr>\n",
       "    <tr>\n",
       "      <th>CD141_P10_S76</th>\n",
       "      <td>Villani</td>\n",
       "      <td>Villani</td>\n",
       "      <td>smart-seq2</td>\n",
       "      <td>PBMCs</td>\n",
       "      <td>Human</td>\n",
       "      <td>TPM</td>\n",
       "    </tr>\n",
       "    <tr>\n",
       "      <th>CD141_P10_S77</th>\n",
       "      <td>Villani</td>\n",
       "      <td>Villani</td>\n",
       "      <td>smart-seq2</td>\n",
       "      <td>PBMCs</td>\n",
       "      <td>Human</td>\n",
       "      <td>TPM</td>\n",
       "    </tr>\n",
       "  </tbody>\n",
       "</table>\n",
       "</div>"
      ],
      "text/plain": [
       "                 batch    study   chemistry tissue species data_type\n",
       "barcode                                                             \n",
       "CD141_P10_S73  Villani  Villani  smart-seq2  PBMCs   Human       TPM\n",
       "CD141_P10_S74  Villani  Villani  smart-seq2  PBMCs   Human       TPM\n",
       "CD141_P10_S75  Villani  Villani  smart-seq2  PBMCs   Human       TPM\n",
       "CD141_P10_S76  Villani  Villani  smart-seq2  PBMCs   Human       TPM\n",
       "CD141_P10_S77  Villani  Villani  smart-seq2  PBMCs   Human       TPM"
      ]
     },
     "execution_count": 7,
     "metadata": {},
     "output_type": "execute_result"
    }
   ],
   "source": [
    "#Annotate data\n",
    "adata_raw.obs.index.rename('barcode', inplace=True)\n",
    "\n",
    "adata_raw.obs['batch'] = ['Villani']*adata_raw.n_obs\n",
    "adata_raw.obs['study'] = ['Villani']*adata_raw.n_obs\n",
    "adata_raw.obs['chemistry'] = ['smart-seq2']*adata_raw.n_obs\n",
    "adata_raw.obs['tissue'] = ['PBMCs']*adata_raw.n_obs\n",
    "adata_raw.obs['species'] = ['Human']*adata_raw.n_obs\n",
    "adata_raw.obs['data_type'] = ['TPM']*adata_raw.n_obs\n",
    "adata_raw.obs.head()"
   ]
  },
  {
   "cell_type": "code",
   "execution_count": 8,
   "metadata": {},
   "outputs": [
    {
     "data": {
      "text/html": [
       "<div>\n",
       "<style scoped>\n",
       "    .dataframe tbody tr th:only-of-type {\n",
       "        vertical-align: middle;\n",
       "    }\n",
       "\n",
       "    .dataframe tbody tr th {\n",
       "        vertical-align: top;\n",
       "    }\n",
       "\n",
       "    .dataframe thead th {\n",
       "        text-align: right;\n",
       "    }\n",
       "</style>\n",
       "<table border=\"1\" class=\"dataframe\">\n",
       "  <thead>\n",
       "    <tr style=\"text-align: right;\">\n",
       "      <th></th>\n",
       "      <th>batch</th>\n",
       "      <th>study</th>\n",
       "      <th>chemistry</th>\n",
       "      <th>tissue</th>\n",
       "      <th>species</th>\n",
       "      <th>data_type</th>\n",
       "    </tr>\n",
       "    <tr>\n",
       "      <th>barcode</th>\n",
       "      <th></th>\n",
       "      <th></th>\n",
       "      <th></th>\n",
       "      <th></th>\n",
       "      <th></th>\n",
       "      <th></th>\n",
       "    </tr>\n",
       "  </thead>\n",
       "  <tbody>\n",
       "    <tr>\n",
       "      <th>CD141_P10_S73-Villani</th>\n",
       "      <td>Villani</td>\n",
       "      <td>Villani</td>\n",
       "      <td>smart-seq2</td>\n",
       "      <td>PBMCs</td>\n",
       "      <td>Human</td>\n",
       "      <td>TPM</td>\n",
       "    </tr>\n",
       "    <tr>\n",
       "      <th>CD141_P10_S74-Villani</th>\n",
       "      <td>Villani</td>\n",
       "      <td>Villani</td>\n",
       "      <td>smart-seq2</td>\n",
       "      <td>PBMCs</td>\n",
       "      <td>Human</td>\n",
       "      <td>TPM</td>\n",
       "    </tr>\n",
       "    <tr>\n",
       "      <th>CD141_P10_S75-Villani</th>\n",
       "      <td>Villani</td>\n",
       "      <td>Villani</td>\n",
       "      <td>smart-seq2</td>\n",
       "      <td>PBMCs</td>\n",
       "      <td>Human</td>\n",
       "      <td>TPM</td>\n",
       "    </tr>\n",
       "    <tr>\n",
       "      <th>CD141_P10_S76-Villani</th>\n",
       "      <td>Villani</td>\n",
       "      <td>Villani</td>\n",
       "      <td>smart-seq2</td>\n",
       "      <td>PBMCs</td>\n",
       "      <td>Human</td>\n",
       "      <td>TPM</td>\n",
       "    </tr>\n",
       "    <tr>\n",
       "      <th>CD141_P10_S77-Villani</th>\n",
       "      <td>Villani</td>\n",
       "      <td>Villani</td>\n",
       "      <td>smart-seq2</td>\n",
       "      <td>PBMCs</td>\n",
       "      <td>Human</td>\n",
       "      <td>TPM</td>\n",
       "    </tr>\n",
       "  </tbody>\n",
       "</table>\n",
       "</div>"
      ],
      "text/plain": [
       "                         batch    study   chemistry tissue species data_type\n",
       "barcode                                                                     \n",
       "CD141_P10_S73-Villani  Villani  Villani  smart-seq2  PBMCs   Human       TPM\n",
       "CD141_P10_S74-Villani  Villani  Villani  smart-seq2  PBMCs   Human       TPM\n",
       "CD141_P10_S75-Villani  Villani  Villani  smart-seq2  PBMCs   Human       TPM\n",
       "CD141_P10_S76-Villani  Villani  Villani  smart-seq2  PBMCs   Human       TPM\n",
       "CD141_P10_S77-Villani  Villani  Villani  smart-seq2  PBMCs   Human       TPM"
      ]
     },
     "execution_count": 8,
     "metadata": {},
     "output_type": "execute_result"
    }
   ],
   "source": [
    "adata_obs = adata_raw.obs.reset_index()\n",
    "adata_obs['barcode'] = adata_obs['barcode']+['-Villani']*adata_raw.n_obs\n",
    "adata_obs.set_index('barcode', inplace = True)\n",
    "adata_raw.obs = adata_obs\n",
    "adata_raw.obs.head()"
   ]
  },
  {
   "cell_type": "markdown",
   "metadata": {},
   "source": [
    "### Pre-processed data"
   ]
  },
  {
   "cell_type": "code",
   "execution_count": 9,
   "metadata": {},
   "outputs": [
    {
     "data": {
      "text/plain": [
       "(1022, 15329)"
      ]
     },
     "execution_count": 9,
     "metadata": {},
     "output_type": "execute_result"
    }
   ],
   "source": [
    "file_paths = '../PBMC_human/write/Villani_PBMCs_1.h5ad'\n",
    "adata_pp = sc.read(file_paths, cache=True)\n",
    "adata_pp.shape"
   ]
  },
  {
   "cell_type": "code",
   "execution_count": 10,
   "metadata": {},
   "outputs": [
    {
     "data": {
      "text/html": [
       "<div>\n",
       "<style scoped>\n",
       "    .dataframe tbody tr th:only-of-type {\n",
       "        vertical-align: middle;\n",
       "    }\n",
       "\n",
       "    .dataframe tbody tr th {\n",
       "        vertical-align: top;\n",
       "    }\n",
       "\n",
       "    .dataframe thead th {\n",
       "        text-align: right;\n",
       "    }\n",
       "</style>\n",
       "<table border=\"1\" class=\"dataframe\">\n",
       "  <thead>\n",
       "    <tr style=\"text-align: right;\">\n",
       "      <th></th>\n",
       "      <th>n_genes</th>\n",
       "      <th>louvain_r1</th>\n",
       "      <th>cell_type</th>\n",
       "      <th>final_annotation</th>\n",
       "    </tr>\n",
       "    <tr>\n",
       "      <th>index</th>\n",
       "      <th></th>\n",
       "      <th></th>\n",
       "      <th></th>\n",
       "      <th></th>\n",
       "    </tr>\n",
       "  </thead>\n",
       "  <tbody>\n",
       "    <tr>\n",
       "      <th>CD141_P10_S73</th>\n",
       "      <td>5811</td>\n",
       "      <td>3</td>\n",
       "      <td>CD141</td>\n",
       "      <td>Monocyte-derived dendritic cells</td>\n",
       "    </tr>\n",
       "    <tr>\n",
       "      <th>CD141_P10_S75</th>\n",
       "      <td>5899</td>\n",
       "      <td>3</td>\n",
       "      <td>CD141</td>\n",
       "      <td>Monocyte-derived dendritic cells</td>\n",
       "    </tr>\n",
       "    <tr>\n",
       "      <th>CD141_P10_S76</th>\n",
       "      <td>4178</td>\n",
       "      <td>3</td>\n",
       "      <td>CD141</td>\n",
       "      <td>Monocyte-derived dendritic cells</td>\n",
       "    </tr>\n",
       "    <tr>\n",
       "      <th>CD141_P10_S77</th>\n",
       "      <td>6128</td>\n",
       "      <td>3</td>\n",
       "      <td>CD141</td>\n",
       "      <td>Monocyte-derived dendritic cells</td>\n",
       "    </tr>\n",
       "    <tr>\n",
       "      <th>CD141_P10_S79</th>\n",
       "      <td>6342</td>\n",
       "      <td>3</td>\n",
       "      <td>CD141</td>\n",
       "      <td>Monocyte-derived dendritic cells</td>\n",
       "    </tr>\n",
       "  </tbody>\n",
       "</table>\n",
       "</div>"
      ],
      "text/plain": [
       "               n_genes louvain_r1 cell_type                  final_annotation\n",
       "index                                                                        \n",
       "CD141_P10_S73     5811          3     CD141  Monocyte-derived dendritic cells\n",
       "CD141_P10_S75     5899          3     CD141  Monocyte-derived dendritic cells\n",
       "CD141_P10_S76     4178          3     CD141  Monocyte-derived dendritic cells\n",
       "CD141_P10_S77     6128          3     CD141  Monocyte-derived dendritic cells\n",
       "CD141_P10_S79     6342          3     CD141  Monocyte-derived dendritic cells"
      ]
     },
     "execution_count": 10,
     "metadata": {},
     "output_type": "execute_result"
    }
   ],
   "source": [
    "adata_pp.obs.head()"
   ]
  },
  {
   "cell_type": "code",
   "execution_count": 11,
   "metadata": {},
   "outputs": [
    {
     "data": {
      "text/html": [
       "<div>\n",
       "<style scoped>\n",
       "    .dataframe tbody tr th:only-of-type {\n",
       "        vertical-align: middle;\n",
       "    }\n",
       "\n",
       "    .dataframe tbody tr th {\n",
       "        vertical-align: top;\n",
       "    }\n",
       "\n",
       "    .dataframe thead th {\n",
       "        text-align: right;\n",
       "    }\n",
       "</style>\n",
       "<table border=\"1\" class=\"dataframe\">\n",
       "  <thead>\n",
       "    <tr style=\"text-align: right;\">\n",
       "      <th></th>\n",
       "      <th>final_annotation</th>\n",
       "      <th>n_genes</th>\n",
       "    </tr>\n",
       "    <tr>\n",
       "      <th>barcode</th>\n",
       "      <th></th>\n",
       "      <th></th>\n",
       "    </tr>\n",
       "  </thead>\n",
       "  <tbody>\n",
       "    <tr>\n",
       "      <th>CD141_P10_S73-Villani</th>\n",
       "      <td>Monocyte-derived dendritic cells</td>\n",
       "      <td>5811</td>\n",
       "    </tr>\n",
       "    <tr>\n",
       "      <th>CD141_P10_S75-Villani</th>\n",
       "      <td>Monocyte-derived dendritic cells</td>\n",
       "      <td>5899</td>\n",
       "    </tr>\n",
       "    <tr>\n",
       "      <th>CD141_P10_S76-Villani</th>\n",
       "      <td>Monocyte-derived dendritic cells</td>\n",
       "      <td>4178</td>\n",
       "    </tr>\n",
       "    <tr>\n",
       "      <th>CD141_P10_S77-Villani</th>\n",
       "      <td>Monocyte-derived dendritic cells</td>\n",
       "      <td>6128</td>\n",
       "    </tr>\n",
       "    <tr>\n",
       "      <th>CD141_P10_S79-Villani</th>\n",
       "      <td>Monocyte-derived dendritic cells</td>\n",
       "      <td>6342</td>\n",
       "    </tr>\n",
       "  </tbody>\n",
       "</table>\n",
       "</div>"
      ],
      "text/plain": [
       "                                       final_annotation  n_genes\n",
       "barcode                                                         \n",
       "CD141_P10_S73-Villani  Monocyte-derived dendritic cells     5811\n",
       "CD141_P10_S75-Villani  Monocyte-derived dendritic cells     5899\n",
       "CD141_P10_S76-Villani  Monocyte-derived dendritic cells     4178\n",
       "CD141_P10_S77-Villani  Monocyte-derived dendritic cells     6128\n",
       "CD141_P10_S79-Villani  Monocyte-derived dendritic cells     6342"
      ]
     },
     "execution_count": 11,
     "metadata": {},
     "output_type": "execute_result"
    }
   ],
   "source": [
    "adata_obs = adata_pp.obs.reset_index()\n",
    "adata_obs = adata_obs[['index', 'final_annotation', 'n_genes']].rename(columns = {'index':'barcode'})\n",
    "adata_obs['barcode'] = adata_obs['barcode']+['-Villani']*adata_pp.n_obs\n",
    "adata_obs.set_index('barcode', inplace = True)\n",
    "adata_pp.obs = adata_obs\n",
    "adata_pp.obs.head()"
   ]
  },
  {
   "cell_type": "code",
   "execution_count": 12,
   "metadata": {},
   "outputs": [
    {
     "data": {
      "text/html": [
       "<div>\n",
       "<style scoped>\n",
       "    .dataframe tbody tr th:only-of-type {\n",
       "        vertical-align: middle;\n",
       "    }\n",
       "\n",
       "    .dataframe tbody tr th {\n",
       "        vertical-align: top;\n",
       "    }\n",
       "\n",
       "    .dataframe thead th {\n",
       "        text-align: right;\n",
       "    }\n",
       "</style>\n",
       "<table border=\"1\" class=\"dataframe\">\n",
       "  <thead>\n",
       "    <tr style=\"text-align: right;\">\n",
       "      <th></th>\n",
       "      <th>batch</th>\n",
       "      <th>study</th>\n",
       "      <th>chemistry</th>\n",
       "      <th>tissue</th>\n",
       "      <th>species</th>\n",
       "      <th>data_type</th>\n",
       "      <th>final_annotation</th>\n",
       "      <th>n_genes</th>\n",
       "    </tr>\n",
       "    <tr>\n",
       "      <th>barcode</th>\n",
       "      <th></th>\n",
       "      <th></th>\n",
       "      <th></th>\n",
       "      <th></th>\n",
       "      <th></th>\n",
       "      <th></th>\n",
       "      <th></th>\n",
       "      <th></th>\n",
       "    </tr>\n",
       "  </thead>\n",
       "  <tbody>\n",
       "    <tr>\n",
       "      <th>CD141_P10_S73-Villani</th>\n",
       "      <td>Villani</td>\n",
       "      <td>Villani</td>\n",
       "      <td>smart-seq2</td>\n",
       "      <td>PBMCs</td>\n",
       "      <td>Human</td>\n",
       "      <td>TPM</td>\n",
       "      <td>Monocyte-derived dendritic cells</td>\n",
       "      <td>5811.0</td>\n",
       "    </tr>\n",
       "    <tr>\n",
       "      <th>CD141_P10_S74-Villani</th>\n",
       "      <td>Villani</td>\n",
       "      <td>Villani</td>\n",
       "      <td>smart-seq2</td>\n",
       "      <td>PBMCs</td>\n",
       "      <td>Human</td>\n",
       "      <td>TPM</td>\n",
       "      <td>NaN</td>\n",
       "      <td>NaN</td>\n",
       "    </tr>\n",
       "    <tr>\n",
       "      <th>CD141_P10_S75-Villani</th>\n",
       "      <td>Villani</td>\n",
       "      <td>Villani</td>\n",
       "      <td>smart-seq2</td>\n",
       "      <td>PBMCs</td>\n",
       "      <td>Human</td>\n",
       "      <td>TPM</td>\n",
       "      <td>Monocyte-derived dendritic cells</td>\n",
       "      <td>5899.0</td>\n",
       "    </tr>\n",
       "    <tr>\n",
       "      <th>CD141_P10_S76-Villani</th>\n",
       "      <td>Villani</td>\n",
       "      <td>Villani</td>\n",
       "      <td>smart-seq2</td>\n",
       "      <td>PBMCs</td>\n",
       "      <td>Human</td>\n",
       "      <td>TPM</td>\n",
       "      <td>Monocyte-derived dendritic cells</td>\n",
       "      <td>4178.0</td>\n",
       "    </tr>\n",
       "    <tr>\n",
       "      <th>CD141_P10_S77-Villani</th>\n",
       "      <td>Villani</td>\n",
       "      <td>Villani</td>\n",
       "      <td>smart-seq2</td>\n",
       "      <td>PBMCs</td>\n",
       "      <td>Human</td>\n",
       "      <td>TPM</td>\n",
       "      <td>Monocyte-derived dendritic cells</td>\n",
       "      <td>6128.0</td>\n",
       "    </tr>\n",
       "  </tbody>\n",
       "</table>\n",
       "</div>"
      ],
      "text/plain": [
       "                         batch    study   chemistry tissue species data_type  \\\n",
       "barcode                                                                        \n",
       "CD141_P10_S73-Villani  Villani  Villani  smart-seq2  PBMCs   Human       TPM   \n",
       "CD141_P10_S74-Villani  Villani  Villani  smart-seq2  PBMCs   Human       TPM   \n",
       "CD141_P10_S75-Villani  Villani  Villani  smart-seq2  PBMCs   Human       TPM   \n",
       "CD141_P10_S76-Villani  Villani  Villani  smart-seq2  PBMCs   Human       TPM   \n",
       "CD141_P10_S77-Villani  Villani  Villani  smart-seq2  PBMCs   Human       TPM   \n",
       "\n",
       "                                       final_annotation  n_genes  \n",
       "barcode                                                           \n",
       "CD141_P10_S73-Villani  Monocyte-derived dendritic cells   5811.0  \n",
       "CD141_P10_S74-Villani                               NaN      NaN  \n",
       "CD141_P10_S75-Villani  Monocyte-derived dendritic cells   5899.0  \n",
       "CD141_P10_S76-Villani  Monocyte-derived dendritic cells   4178.0  \n",
       "CD141_P10_S77-Villani  Monocyte-derived dendritic cells   6128.0  "
      ]
     },
     "execution_count": 12,
     "metadata": {},
     "output_type": "execute_result"
    }
   ],
   "source": [
    "# Restrict to cells that passed QC and were annotated\n",
    "adata_obs_raw = adata_raw.obs.reset_index()\n",
    "adata_obs_pp = adata_pp.obs.reset_index()\n",
    "adata_merged = adata_obs_raw.merge(adata_obs_pp, on='barcode', how='left')\n",
    "adata_merged.set_index('barcode', inplace = True)\n",
    "adata_raw.obs = adata_merged\n",
    "adata_raw.obs.head()"
   ]
  },
  {
   "cell_type": "code",
   "execution_count": 13,
   "metadata": {},
   "outputs": [
    {
     "data": {
      "text/plain": [
       "(1022, 26593)"
      ]
     },
     "execution_count": 13,
     "metadata": {},
     "output_type": "execute_result"
    }
   ],
   "source": [
    "adata_raw = adata_raw[~pd.isnull(adata_raw.obs['final_annotation'])]\n",
    "adata_raw.shape"
   ]
  },
  {
   "cell_type": "markdown",
   "metadata": {},
   "source": [
    "### Normalization"
   ]
  },
  {
   "cell_type": "code",
   "execution_count": 14,
   "metadata": {},
   "outputs": [
    {
     "name": "stdout",
     "output_type": "stream",
     "text": [
      "Total number of genes: 26593\n",
      "filtered out 4272 genes that are detectedin less than 1 cells\n"
     ]
    },
    {
     "name": "stderr",
     "output_type": "stream",
     "text": [
      "Trying to set attribute `.var` of view, making a copy.\n"
     ]
    },
    {
     "name": "stdout",
     "output_type": "stream",
     "text": [
      "Number of genes after cell filter: 22321\n"
     ]
    }
   ],
   "source": [
    "# Exclude genes that are = 0 in all cells\n",
    "#Filter genes:\n",
    "print('Total number of genes: {:d}'.format(adata_raw.n_vars))\n",
    "\n",
    "# Min 20 cells - filters out 0 count genes\n",
    "sc.pp.filter_genes(adata_raw, min_cells=1)\n",
    "print('Number of genes after cell filter: {:d}'.format(adata_raw.n_vars))"
   ]
  },
  {
   "cell_type": "code",
   "execution_count": 15,
   "metadata": {},
   "outputs": [],
   "source": [
    "#Keep the count data in a counts layer --- here we have TPM but we save it as counts to run SCVI \n",
    "adata_raw.layers[\"counts\"] = adata_raw.X.copy()"
   ]
  },
  {
   "cell_type": "code",
   "execution_count": 16,
   "metadata": {},
   "outputs": [],
   "source": [
    "#Normalize adata \n",
    "sc.pp.log1p(adata_raw)"
   ]
  },
  {
   "cell_type": "code",
   "execution_count": 17,
   "metadata": {},
   "outputs": [
    {
     "name": "stderr",
     "output_type": "stream",
     "text": [
      "... storing 'batch' as categorical\n",
      "... storing 'study' as categorical\n",
      "... storing 'chemistry' as categorical\n",
      "... storing 'tissue' as categorical\n",
      "... storing 'species' as categorical\n",
      "... storing 'data_type' as categorical\n"
     ]
    }
   ],
   "source": [
    "# Save final merged object\n",
    "adata_raw.write(results_file)"
   ]
  }
 ],
 "metadata": {
  "kernelspec": {
   "display_name": "Python 3",
   "language": "python",
   "name": "python3"
  },
  "language_info": {
   "codemirror_mode": {
    "name": "ipython",
    "version": 3
   },
   "file_extension": ".py",
   "mimetype": "text/x-python",
   "name": "python",
   "nbconvert_exporter": "python",
   "pygments_lexer": "ipython3",
   "version": "3.7.3"
  }
 },
 "nbformat": 4,
 "nbformat_minor": 2
}
