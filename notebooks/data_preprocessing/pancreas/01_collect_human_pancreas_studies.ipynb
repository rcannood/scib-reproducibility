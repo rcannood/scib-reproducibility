{
 "cells": [
  {
   "cell_type": "code",
   "execution_count": 1,
   "metadata": {},
   "outputs": [
    {
     "name": "stderr",
     "output_type": "stream",
     "text": [
      "Loading required package: SummarizedExperiment\n",
      "Loading required package: GenomicRanges\n",
      "Loading required package: stats4\n",
      "Loading required package: BiocGenerics\n",
      "Loading required package: parallel\n",
      "\n",
      "Attaching package: ‘BiocGenerics’\n",
      "\n",
      "The following objects are masked from ‘package:parallel’:\n",
      "\n",
      "    clusterApply, clusterApplyLB, clusterCall, clusterEvalQ,\n",
      "    clusterExport, clusterMap, parApply, parCapply, parLapply,\n",
      "    parLapplyLB, parRapply, parSapply, parSapplyLB\n",
      "\n",
      "The following objects are masked from ‘package:stats’:\n",
      "\n",
      "    IQR, mad, sd, var, xtabs\n",
      "\n",
      "The following objects are masked from ‘package:base’:\n",
      "\n",
      "    Filter, Find, Map, Position, Reduce, anyDuplicated, append,\n",
      "    as.data.frame, basename, cbind, colMeans, colSums, colnames,\n",
      "    dirname, do.call, duplicated, eval, evalq, get, grep, grepl,\n",
      "    intersect, is.unsorted, lapply, lengths, mapply, match, mget,\n",
      "    order, paste, pmax, pmax.int, pmin, pmin.int, rank, rbind,\n",
      "    rowMeans, rowSums, rownames, sapply, setdiff, sort, table, tapply,\n",
      "    union, unique, unsplit, which, which.max, which.min\n",
      "\n",
      "Loading required package: S4Vectors\n",
      "\n",
      "Attaching package: ‘S4Vectors’\n",
      "\n",
      "The following object is masked from ‘package:base’:\n",
      "\n",
      "    expand.grid\n",
      "\n",
      "Loading required package: IRanges\n",
      "Loading required package: GenomeInfoDb\n",
      "Loading required package: Biobase\n",
      "Welcome to Bioconductor\n",
      "\n",
      "    Vignettes contain introductory material; view with\n",
      "    'browseVignettes()'. To cite Bioconductor, see\n",
      "    'citation(\"Biobase\")', and for packages 'citation(\"pkgname\")'.\n",
      "\n",
      "Loading required package: DelayedArray\n",
      "Loading required package: matrixStats\n",
      "\n",
      "Attaching package: ‘matrixStats’\n",
      "\n",
      "The following objects are masked from ‘package:Biobase’:\n",
      "\n",
      "    anyMissing, rowMedians\n",
      "\n",
      "Loading required package: BiocParallel\n",
      "\n",
      "Attaching package: ‘DelayedArray’\n",
      "\n",
      "The following objects are masked from ‘package:matrixStats’:\n",
      "\n",
      "    colMaxs, colMins, colRanges, rowMaxs, rowMins, rowRanges\n",
      "\n",
      "The following objects are masked from ‘package:base’:\n",
      "\n",
      "    aperm, apply\n",
      "\n",
      "\n",
      "Attaching package: ‘SummarizedExperiment’\n",
      "\n",
      "The following object is masked from ‘package:Seurat’:\n",
      "\n",
      "    Assays\n",
      "\n"
     ]
    }
   ],
   "source": [
    "#load required packages\n",
    "library(Seurat)\n",
    "library(SingleCellExperiment)\n",
    "library(SummarizedExperiment)\n",
    "library(GenomicRanges)\n",
    "library(stats4)\n",
    "library(BiocGenerics)\n",
    "library(parallel)\n",
    "\n",
    "#set paths \n",
    "path_dir <- '~/Documents/Manuskripte/data_integration/data/human_pancreas/'\n",
    "data_out <- 'human_pancreas.csv'\n",
    "meta_out <- 'human_pancreas_meta.csv'"
   ]
  },
  {
   "cell_type": "markdown",
   "metadata": {},
   "source": [
    "# Read data"
   ]
  },
  {
   "cell_type": "markdown",
   "metadata": {},
   "source": [
    "The Satija lab provides a pre-annotated collection of four datasets \n",
    "(downloaded from https://satijalab.org/seurat/v3.0/integration.html on 28/8/2019)\n",
    "\n",
    "[1] CelSeq (GSE81076) - \tGrün D, Muraro MJ, Boisset JC, Wiebrands K et al. \n",
    " De Novo Prediction of Stem Cell Identity using Single-Cell Transcriptome Data. \n",
    " Cell Stem Cell 2016 Aug 4;19(2):266-277 \n",
    " \n",
    " comment: UMI counts were converted to transcript numbers through binomial statistics\n",
    "\n",
    "[2] CelSeq2 (GSE85241) - Muraro, M. J. et al. A Single-Cell Transcriptome Atlas of \n",
    " the Human Pancreas. Cell Syst 3, 385–394.e3 (2016) \n",
    " \n",
    " comment: the data is not exactly UMI count data, but approximately\n",
    "\n",
    "[3] Fluidigm C1 (GSE86469) - Lawlor N, George J, Bolisetty M, Kursawe R et al.\n",
    "Single-cell transcriptomes identify human islet cell signatures and reveal \n",
    "cell-type-specific expression changes in type 2 diabetes. \n",
    "Genome Res 2017 Feb;27(2):208-222\n",
    "\n",
    "comment: C1 data with SMARTer protocol, approximately counts\n",
    "\n",
    "\n",
    "[4] SMART-Seq2 (E-MTAB-5061) - Segerstolpe et al. Single-Cell Transcriptome Profiling \n",
    "of Human Pancreatic Islets in Health and Type 2 Diabetes. \n",
    "Cell Metab. 24, 593–607 (2016)\n",
    "\n",
    "comment: SMARTseq2 data, count data for sure"
   ]
  },
  {
   "cell_type": "markdown",
   "metadata": {},
   "source": [
    "Read data from Satija lab."
   ]
  },
  {
   "cell_type": "code",
   "execution_count": 2,
   "metadata": {},
   "outputs": [],
   "source": [
    "pancreas.data <- readRDS(file = paste0(path_dir, \"pancreas_expression_matrix.rds\"))\n",
    "metadata <- readRDS(file =  paste0(path_dir,\"pancreas_metadata.rds\"))"
   ]
  },
  {
   "cell_type": "markdown",
   "metadata": {},
   "source": [
    "The Hemberg lab provides as well a collection of human pancreas data sets,\n",
    " which are pre-annotated. There is some overlap to the data from the Satija lab, i.e.\n",
    " the datasets of Muraro et al and Segerstolpe et al are duplicated. \n",
    " We downloaded the data as SCEsets from the Hemberg lab webpage \n",
    " (https://hemberg-lab.github.io/scRNA.seq.datasets/human/pancreas/) on 28/8/19.\n",
    "\n",
    "[5] inDrop (GSE84133) - Baron, M. et al. A Single-Cell Transcriptomic Map of the Human\n",
    "and Mouse Pancreas Reveals Inter- and Intra-cell Population Structure. \n",
    "Cell Syst 3, 346–360.e4 (2016)\n",
    "\n",
    "comment: This dataset used the inDrop protocol and we obtained count data\n",
    "\n",
    "[6] SMARTer (GSE81608) - Xin, Y. et al. RNA Sequencing of Single Human Islet Cells Reveals \n",
    " Type 2 Diabetes Genes. Cell Metab. 24, 608–615 (2016)\n",
    "\n",
    "comment: This dataset come from the SMARTer protocol and is normalized to RPKM"
   ]
  },
  {
   "cell_type": "markdown",
   "metadata": {},
   "source": [
    " Read data per data set."
   ]
  },
  {
   "cell_type": "code",
   "execution_count": 3,
   "metadata": {},
   "outputs": [],
   "source": [
    "baron <- readRDS(file = paste0(path_dir, \"baron-human.rds\"))\n",
    "xin <- readRDS(file = paste0(path_dir, \"xin.rds\"))"
   ]
  },
  {
   "cell_type": "markdown",
   "metadata": {},
   "source": [
    "# merge data sets and unify annotation"
   ]
  },
  {
   "cell_type": "code",
   "execution_count": 5,
   "metadata": {},
   "outputs": [],
   "source": [
    "baron_counts <- counts(baron)\n",
    "baron_celltype <- colData(baron)$cell_type1\n",
    "\n",
    "xin_rpkm <- normcounts(xin)\n",
    "xin_celltype <- colData(xin)$cell_type1\n",
    "#remove contaminated cells\n",
    "xin_contam <- xin_celltype %in% c('alpha.contaminated', \n",
    "                                  'beta.contaminated', \n",
    "                                  'gamma.contaminated',\n",
    "                                  'delta.contaminated')\n",
    "#reduce data\n",
    "xin_celltype <- factor(xin_celltype[!xin_contam])\n",
    "xin_rpkm <- xin_rpkm[,!xin_contam]\n",
    "\n",
    "\n",
    "#add to metadata\n",
    "protocol <- c(rep('inDrop', length(baron_celltype)), rep('smarter', length(xin_celltype)))\n",
    "celltype <- c(as.character(baron_celltype), as.character(xin_celltype))\n",
    "\n",
    "metadata2 <- data.frame(tech = protocol, celltype = celltype)\n",
    "\n",
    "#merge metadata\n",
    "meta_all <- rbind(metadata,metadata2)\n",
    "\n",
    "#merge cell data (inner join)\n",
    "common_names <- intersect(rownames(pancreas.data), rownames(baron_counts))\n",
    "common_names <- intersect(rownames(xin_rpkm), common_names)\n",
    "\n",
    "cells_all <- cbind(pancreas.data[rownames(pancreas.data) %in% common_names,], \n",
    "                   baron_counts[rownames(baron_counts) %in% common_names,])\n",
    "\n",
    "cells_all <- cbind(cells_all, \n",
    "                   xin_rpkm[rownames(xin_rpkm) %in% common_names,])"
   ]
  },
  {
   "cell_type": "code",
   "execution_count": 6,
   "metadata": {},
   "outputs": [],
   "source": [
    "#write to file\n",
    "write.csv(x = meta_all, file = paste0(path_dir, meta_out), quote = FALSE)\n",
    "write.csv(x = cells_all, file = paste0(path_dir, data_out), quote = FALSE)"
   ]
  },
  {
   "cell_type": "markdown",
   "metadata": {},
   "source": [
    "**Comment on normalisation:** We normalize all count data (or approx. count data) with scran,\n",
    " but RPKM normalized data (Xin et al) are kept as is. We use the scanpy framework to perform the normalisation in the subsequent notebook."
   ]
  },
  {
   "cell_type": "code",
   "execution_count": 7,
   "metadata": {},
   "outputs": [
    {
     "data": {
      "text/plain": [
       "R version 3.5.2 (2018-12-20)\n",
       "Platform: x86_64-apple-darwin15.6.0 (64-bit)\n",
       "Running under: macOS Mojave 10.14.5\n",
       "\n",
       "Matrix products: default\n",
       "BLAS: /Library/Frameworks/R.framework/Versions/3.5/Resources/lib/libRblas.0.dylib\n",
       "LAPACK: /Library/Frameworks/R.framework/Versions/3.5/Resources/lib/libRlapack.dylib\n",
       "\n",
       "locale:\n",
       "[1] C/UTF-8/C/C/C/C\n",
       "\n",
       "attached base packages:\n",
       "[1] parallel  stats4    stats     graphics  grDevices utils     datasets \n",
       "[8] methods   base     \n",
       "\n",
       "other attached packages:\n",
       " [1] SingleCellExperiment_1.4.1  SummarizedExperiment_1.12.0\n",
       " [3] DelayedArray_0.8.0          BiocParallel_1.16.6        \n",
       " [5] matrixStats_0.54.0          Biobase_2.42.0             \n",
       " [7] GenomicRanges_1.34.0        GenomeInfoDb_1.18.2        \n",
       " [9] IRanges_2.16.0              S4Vectors_0.20.1           \n",
       "[11] BiocGenerics_0.28.0         Seurat_3.1.0               \n",
       "\n",
       "loaded via a namespace (and not attached):\n",
       " [1] tsne_0.1-3             nlme_3.1-140           bitops_1.0-6          \n",
       " [4] RcppAnnoy_0.0.12       RColorBrewer_1.1-2     httr_1.4.0            \n",
       " [7] repr_1.0.1             sctransform_0.2.0      tools_3.5.2           \n",
       "[10] R6_2.4.0               irlba_2.3.3            KernSmooth_2.23-15    \n",
       "[13] uwot_0.1.3             lazyeval_0.2.2         colorspace_1.4-1      \n",
       "[16] npsurv_0.4-0           tidyselect_0.2.5       gridExtra_2.3         \n",
       "[19] compiler_3.5.2         plotly_4.9.0           caTools_1.17.1.2      \n",
       "[22] scales_1.0.0           lmtest_0.9-37          ggridges_0.5.1        \n",
       "[25] pbapply_1.4-0          pbdZMQ_0.3-3           stringr_1.4.0         \n",
       "[28] digest_0.6.19          R.utils_2.8.0          XVector_0.22.0        \n",
       "[31] base64enc_0.1-3        pkgconfig_2.0.2        htmltools_0.3.6       \n",
       "[34] bibtex_0.4.2           htmlwidgets_1.3        rlang_0.3.4           \n",
       "[37] zoo_1.8-5              jsonlite_1.6           ica_1.0-2             \n",
       "[40] gtools_3.8.1           dplyr_0.8.1            R.oo_1.22.0           \n",
       "[43] RCurl_1.95-4.12        magrittr_1.5           GenomeInfoDbData_1.2.0\n",
       "[46] Matrix_1.2-17          Rcpp_1.0.1             IRkernel_1.0.1        \n",
       "[49] munsell_0.5.0          ape_5.3                reticulate_1.12       \n",
       "[52] R.methodsS3_1.7.1      stringi_1.4.3          zlibbioc_1.28.0       \n",
       "[55] gbRd_0.4-11            MASS_7.3-51.4          gplots_3.0.1.1        \n",
       "[58] Rtsne_0.15             plyr_1.8.4             grid_3.5.2            \n",
       "[61] gdata_2.18.0           listenv_0.7.0          ggrepel_0.8.1         \n",
       "[64] crayon_1.3.4           lattice_0.20-38        IRdisplay_0.7.0       \n",
       "[67] cowplot_0.9.4          splines_3.5.2          SDMTools_1.1-221.1    \n",
       "[70] pillar_1.4.0           igraph_1.2.4.1         uuid_0.1-2            \n",
       "[73] future.apply_1.2.0     reshape2_1.4.3         codetools_0.2-16      \n",
       "[76] leiden_0.3.1           glue_1.3.1             evaluate_0.13         \n",
       "[79] lsei_1.2-0             metap_1.1              RcppParallel_4.4.3    \n",
       "[82] data.table_1.12.2      png_0.1-7              Rdpack_0.11-0         \n",
       "[85] gtable_0.3.0           RANN_2.6.1             purrr_0.3.2           \n",
       "[88] tidyr_0.8.3            future_1.13.0          assertthat_0.2.1      \n",
       "[91] ggplot2_3.1.1          rsvd_1.0.0             survival_2.44-1.1     \n",
       "[94] viridisLite_0.3.0      tibble_2.1.1           cluster_2.0.9         \n",
       "[97] globals_0.12.4         fitdistrplus_1.0-14    ROCR_1.0-7            "
      ]
     },
     "metadata": {},
     "output_type": "display_data"
    }
   ],
   "source": [
    "sessionInfo()"
   ]
  }
 ],
 "metadata": {
  "kernelspec": {
   "display_name": "R",
   "language": "R",
   "name": "ir"
  },
  "language_info": {
   "codemirror_mode": "r",
   "file_extension": ".r",
   "mimetype": "text/x-r-source",
   "name": "R",
   "pygments_lexer": "r",
   "version": "3.5.2"
  }
 },
 "nbformat": 4,
 "nbformat_minor": 2
}
